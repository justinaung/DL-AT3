{
 "cells": [
  {
   "cell_type": "markdown",
   "metadata": {
    "colab_type": "text",
    "id": "Jp88Tm1b6Lhp"
   },
   "source": [
    "# Base Model"
   ]
  },
  {
   "cell_type": "markdown",
   "metadata": {
    "colab_type": "text",
    "id": "SydynLGp6JCn"
   },
   "source": [
    "Blog: https://towardsdatascience.com/image-captioning-with-keras-teaching-computers-to-describe-pictures-c88a46a311b8\n",
    "\n",
    "Source code: https://github.com/hlamba28/Automatic-Image-Captioning"
   ]
  },
  {
   "cell_type": "code",
   "execution_count": 83,
   "metadata": {
    "ExecuteTime": {
     "end_time": "2020-06-17T08:16:58.040739Z",
     "start_time": "2020-06-17T08:16:57.976160Z"
    },
    "colab": {
     "base_uri": "https://localhost:8080/",
     "height": 34
    },
    "colab_type": "code",
    "id": "TzqqzxGEuKJz",
    "outputId": "efa596d9-4251-49fc-8d78-ff298333e560",
    "scrolled": true
   },
   "outputs": [
    {
     "name": "stdout",
     "output_type": "stream",
     "text": [
      "The autoreload extension is already loaded. To reload it, use:\n",
      "  %reload_ext autoreload\n"
     ]
    }
   ],
   "source": [
    "%load_ext autoreload\n",
    "%autoreload 2\n",
    "\n",
    "import pickle\n",
    "from time import time\n",
    "\n",
    "import numpy as np\n",
    "import pandas as pd\n",
    "import matplotlib.pyplot as plt\n",
    "%matplotlib inline\n",
    "\n",
    "from helper import *"
   ]
  },
  {
   "cell_type": "code",
   "execution_count": 84,
   "metadata": {
    "ExecuteTime": {
     "end_time": "2020-06-18T00:38:20.521881Z",
     "start_time": "2020-06-18T00:38:20.474051Z"
    }
   },
   "outputs": [],
   "source": [
    "FLICKR8K_TEXT = '../Flickr8k_text'\n",
    "FLICKR8K_DATASET = '../Flicker8k_Dataset'"
   ]
  },
  {
   "cell_type": "markdown",
   "metadata": {
    "colab_type": "text",
    "id": "vMefnz2tlmee"
   },
   "source": [
    "## 1 - Load, clean, save captions\n"
   ]
  },
  {
   "cell_type": "code",
   "execution_count": 85,
   "metadata": {
    "ExecuteTime": {
     "end_time": "2020-06-18T00:38:51.732439Z",
     "start_time": "2020-06-18T00:38:51.662623Z"
    },
    "colab": {
     "base_uri": "https://localhost:8080/",
     "height": 85
    },
    "colab_type": "code",
    "id": "q7ZxiriU6JCs",
    "outputId": "45dbe9fa-f228-45a0-e51d-790ba516a871"
   },
   "outputs": [
    {
     "name": "stdout",
     "output_type": "stream",
     "text": [
      "1000268201_693b08cb0e.jpg#0\tA child in a pink dress is climbing up a set of stairs in an entry way .\n",
      "1000268201_693b08cb0e.jpg#1\tA girl going into a wooden building .\n",
      "1000268201_693b08cb0e.jpg#2\tA little girl climbing into a wooden playhouse .\n",
      "1000268201_693b08cb0e.jpg#3\tA little girl climbing the s\n"
     ]
    }
   ],
   "source": [
    "doc = load_doc(f'{FLICKR8K_TEXT}/Flickr8k.token.txt')\n",
    "print(doc[:300])"
   ]
  },
  {
   "cell_type": "markdown",
   "metadata": {
    "colab_type": "text",
    "id": "d6uCXvd4nLB-"
   },
   "source": [
    "As we can see from the output, we have in each line  the image id, the caption number and the caption itself.\n",
    "\n",
    "We want to spilt each line into key value pairs, with the keys being image id's and the values being a list of captions 0-4."
   ]
  },
  {
   "cell_type": "code",
   "execution_count": 86,
   "metadata": {
    "ExecuteTime": {
     "end_time": "2020-06-18T00:38:55.532907Z",
     "start_time": "2020-06-18T00:38:55.409557Z"
    },
    "colab": {
     "base_uri": "https://localhost:8080/",
     "height": 34
    },
    "colab_type": "code",
    "id": "9VR57kgR6JCu",
    "outputId": "77c7ebdb-d900-4ea0-da21-59a9595f7c8a"
   },
   "outputs": [
    {
     "name": "stdout",
     "output_type": "stream",
     "text": [
      "Loaded:  8092\n"
     ]
    }
   ],
   "source": [
    "# create a map of image ids with related descriptions\n",
    "descriptions = load_descriptions(doc)\n",
    "print('Loaded: ', len(descriptions))"
   ]
  },
  {
   "cell_type": "markdown",
   "metadata": {},
   "source": [
    "We need to remove punctuation and anything else not words, overwrite descriptions dictionary with cleaned version."
   ]
  },
  {
   "cell_type": "code",
   "execution_count": 11,
   "metadata": {},
   "outputs": [],
   "source": [
    "clean_descriptions(descriptions)\n",
    "save_descriptions(descriptions, 'descriptions.txt')"
   ]
  },
  {
   "cell_type": "markdown",
   "metadata": {
    "colab_type": "text",
    "id": "0EcM9Is8rNNc"
   },
   "source": [
    "## 2 - Extract image features\n",
    "\n",
    "The CNN prebuilt model used is InceptionV3, with imagenet weights."
   ]
  },
  {
   "cell_type": "code",
   "execution_count": 28,
   "metadata": {
    "ExecuteTime": {
     "end_time": "2020-06-18T00:50:27.504064Z",
     "start_time": "2020-06-18T00:50:26.530953Z"
    }
   },
   "outputs": [],
   "source": [
    "train_img_paths, dev_img_paths, test_img_paths = load_train_dev_test_image_paths(\n",
    "    f'{FLICKR8K_DATASET}/*.jpg', \n",
    "    FLICKR8K_TEXT,\n",
    ")"
   ]
  },
  {
   "cell_type": "code",
   "execution_count": null,
   "metadata": {
    "ExecuteTime": {
     "end_time": "2020-06-17T07:46:44.239934Z",
     "start_time": "2020-06-17T07:46:34.456013Z"
    },
    "colab": {
     "base_uri": "https://localhost:8080/",
     "height": 51
    },
    "colab_type": "code",
    "id": "Jmgt_Ka36JDY",
    "outputId": "7a3ed6b0-6c01-4855-d21f-79bee400b558"
   },
   "outputs": [],
   "source": [
    "from keras.applications.inception_v3 import InceptionV3\n",
    "\n",
    "# Load the inception v3 model\n",
    "inception_v3_model = InceptionV3(weights='imagenet')"
   ]
  },
  {
   "cell_type": "markdown",
   "metadata": {
    "colab_type": "text",
    "id": "129AkMLz6QHc"
   },
   "source": [
    "The last layer of InceptionV3 is a dense layer of size 2048."
   ]
  },
  {
   "cell_type": "code",
   "execution_count": 21,
   "metadata": {
    "ExecuteTime": {
     "end_time": "2020-06-18T00:39:59.357894Z",
     "start_time": "2020-06-18T00:39:59.280021Z"
    },
    "colab": {},
    "colab_type": "code",
    "id": "ukXN0xrj6JDb"
   },
   "outputs": [],
   "source": [
    "from keras.models import Model\n",
    "\n",
    "# Create a new model, by removing the last layer (output layer) from the inception v3\n",
    "image_features_extract_model = Model(inception_v3_model.input, inception_v3_model.layers[-2].output)"
   ]
  },
  {
   "cell_type": "markdown",
   "metadata": {
    "colab_type": "text",
    "id": "ws2jzuujmekQ"
   },
   "source": [
    "We need to run our training images through model_new (forward pass) to get our feature vectors \n",
    "and reshape to (2048, ) to input to the caption model."
   ]
  },
  {
   "cell_type": "markdown",
   "metadata": {
    "colab_type": "text",
    "id": "7Vkgla5Gp4eS"
   },
   "source": [
    "Encode training images - THIS TAKE A LONG TIME, RUN ON GPU if possible"
   ]
  },
  {
   "cell_type": "code",
   "execution_count": 17,
   "metadata": {
    "ExecuteTime": {
     "end_time": "2020-06-17T08:10:44.885631Z",
     "start_time": "2020-06-17T08:10:40.705860Z"
    }
   },
   "outputs": [
    {
     "name": "stderr",
     "output_type": "stream",
     "text": [
      "Extracting features from images: 100%|██████████| 6000/6000 [02:26<00:00, 41.09it/s]\n"
     ]
    },
    {
     "name": "stdout",
     "output_type": "stream",
     "text": [
      "Image encodings saved at: Pickle/encoded_train_images.pkl\n"
     ]
    }
   ],
   "source": [
    "image_encodings_train = extract_features_from_images(\n",
    "    image_path_list=train_img_paths,\n",
    "    cnn_model=image_features_extract_model,\n",
    "    target_size=(299, 299),\n",
    "    save_file_path='Pickle/encoded_train_images.pkl',\n",
    ")"
   ]
  },
  {
   "cell_type": "code",
   "execution_count": 18,
   "metadata": {
    "ExecuteTime": {
     "end_time": "2020-06-17T08:10:44.885631Z",
     "start_time": "2020-06-17T08:10:40.705860Z"
    }
   },
   "outputs": [
    {
     "name": "stderr",
     "output_type": "stream",
     "text": [
      "Extracting features from images: 100%|██████████| 1000/1000 [00:23<00:00, 42.68it/s]"
     ]
    },
    {
     "name": "stdout",
     "output_type": "stream",
     "text": [
      "Image encodings saved at: Pickle/encoded_dev_images.pkl\n"
     ]
    },
    {
     "name": "stderr",
     "output_type": "stream",
     "text": [
      "\n"
     ]
    }
   ],
   "source": [
    "image_encodings_dev = extract_features_from_images(\n",
    "    image_path_list=dev_img_paths,\n",
    "    cnn_model=image_features_extract_model,\n",
    "    target_size=(299, 299),\n",
    "    save_file_path='Pickle/encoded_dev_images.pkl',\n",
    ")"
   ]
  },
  {
   "cell_type": "code",
   "execution_count": 19,
   "metadata": {
    "ExecuteTime": {
     "end_time": "2020-06-17T08:10:44.885631Z",
     "start_time": "2020-06-17T08:10:40.705860Z"
    }
   },
   "outputs": [
    {
     "name": "stderr",
     "output_type": "stream",
     "text": [
      "Extracting features from images: 100%|██████████| 1000/1000 [00:23<00:00, 42.68it/s]"
     ]
    },
    {
     "name": "stdout",
     "output_type": "stream",
     "text": [
      "Image encodings saved at: Pickle/encoded_test_images.pkl\n"
     ]
    },
    {
     "name": "stderr",
     "output_type": "stream",
     "text": [
      "\n"
     ]
    }
   ],
   "source": [
    "image_encodings_test = extract_features_from_images(\n",
    "    image_path_list=test_img_paths,\n",
    "    cnn_model=image_features_extract_model,\n",
    "    target_size=(299, 299),\n",
    "    save_file_path='Pickle/encoded_test_images.pkl',\n",
    ")"
   ]
  },
  {
   "cell_type": "markdown",
   "metadata": {
    "colab_type": "text",
    "id": "JsWdTK41HdEG"
   },
   "source": [
    "## 4 - Load and Preprocess clean data\n"
   ]
  },
  {
   "cell_type": "markdown",
   "metadata": {},
   "source": [
    "Wrap with START and END tokens for each image caption in the train dataset"
   ]
  },
  {
   "cell_type": "code",
   "execution_count": 29,
   "metadata": {
    "ExecuteTime": {
     "end_time": "2020-06-17T08:49:05.738499Z",
     "start_time": "2020-06-17T08:49:05.566103Z"
    },
    "colab": {
     "base_uri": "https://localhost:8080/",
     "height": 34
    },
    "colab_type": "code",
    "id": "3ai5APdk6JDq",
    "outputId": "83537707-4841-4b18-e300-29332f1a788c"
   },
   "outputs": [
    {
     "name": "stdout",
     "output_type": "stream",
     "text": [
      "Photos: train=6000\n"
     ]
    }
   ],
   "source": [
    "train_image_ids = [img_path.split('/')[-1].split('.')[0] for img_path in train_img_paths]\n",
    "train_descriptions = add_start_end_token('descriptions.txt', train_image_ids)\n",
    "\n",
    "train_image_features = pickle.load(open(\"train_image_encodings.pickle\", \"rb\"))\n",
    "print('Photos: train=%d' % len(train_image_features))"
   ]
  },
  {
   "cell_type": "code",
   "execution_count": 30,
   "metadata": {},
   "outputs": [
    {
     "name": "stdout",
     "output_type": "stream",
     "text": [
      "Photos: dev=1000\n"
     ]
    }
   ],
   "source": [
    "dev_image_ids = [img_path.split('/')[-1].split('.')[0] for img_path in dev_img_paths]\n",
    "dev_descriptions = add_start_end_token('descriptions.txt', dev_image_ids)\n",
    "\n",
    "dev_image_features = pickle.load(open(\"dev_image_encodings.pickle\", \"rb\"))\n",
    "print('Photos: dev=%d' % len(dev_image_features))"
   ]
  },
  {
   "cell_type": "code",
   "execution_count": 5,
   "metadata": {},
   "outputs": [],
   "source": [
    "with open('../dev_image_encodings.pkl', 'wb') as f:\n",
    "    pickle.dump(dev_image_features, f, protocol=2)"
   ]
  },
  {
   "cell_type": "code",
   "execution_count": 8,
   "metadata": {},
   "outputs": [],
   "source": [
    "import json\n",
    "with open('../dev_descriptions.json', 'w') as f:\n",
    "    json.dump(dev_descriptions, f)"
   ]
  },
  {
   "cell_type": "code",
   "execution_count": 31,
   "metadata": {
    "ExecuteTime": {
     "end_time": "2020-06-18T00:57:57.998894Z",
     "start_time": "2020-06-18T00:57:57.866834Z"
    }
   },
   "outputs": [
    {
     "name": "stdout",
     "output_type": "stream",
     "text": [
      "Reduced vocab size from 7578 -> 1651\n"
     ]
    }
   ],
   "source": [
    "from collections import Counter\n",
    "\n",
    "all_train_captions = [desc \n",
    "                      for desc_list in train_descriptions.values() \n",
    "                      for desc in desc_list]\n",
    "\n",
    "# Consider only words which occur at least 10 times in the corpus\n",
    "word_count_threshold = 10\n",
    "word_counts = Counter([word for caption in all_train_captions for word in caption.split(' ')])\n",
    "vocabs = [word for word, count in word_counts.items() if count >= word_count_threshold]\n",
    "print(f'Reduced vocab size from {len(word_counts)} -> {len(vocabs)}')"
   ]
  },
  {
   "cell_type": "code",
   "execution_count": 7,
   "metadata": {},
   "outputs": [],
   "source": [
    "from tensorflow.keras.preprocessing.text import Tokenizer\n",
    "\n",
    "top_k = 1651\n",
    "tokenizer = Tokenizer(num_words=1651, \n",
    "                      oov_token='<unk>', \n",
    "                      filters='!\"#$%&()*+.,-/:;=?@[\\]^_`{|}~ ')\n",
    "tokenizer.fit_on_texts(all_train_captions)\n",
    "max_length = max(len(t) for t in tokenizer.texts_to_sequences(all_train_captions))\n",
    "vocab_size = top_k + 1"
   ]
  },
  {
   "cell_type": "markdown",
   "metadata": {
    "colab_type": "text",
    "id": "c3dWS51k9OTy"
   },
   "source": [
    "## 5 - Build Base model"
   ]
  },
  {
   "cell_type": "code",
   "execution_count": 8,
   "metadata": {
    "ExecuteTime": {
     "end_time": "2020-06-17T12:51:17.834791Z",
     "start_time": "2020-06-17T12:51:17.267042Z"
    },
    "colab": {
     "base_uri": "https://localhost:8080/",
     "height": 527
    },
    "colab_type": "code",
    "id": "EWOXarkY9Ngj",
    "outputId": "f6f1a6ee-60be-49c2-e0ab-4249be280415",
    "scrolled": true
   },
   "outputs": [
    {
     "name": "stdout",
     "output_type": "stream",
     "text": [
      "Model: \"model_1\"\n",
      "__________________________________________________________________________________________________\n",
      "Layer (type)                    Output Shape         Param #     Connected to                     \n",
      "==================================================================================================\n",
      "input_2 (InputLayer)            (None, 34)           0                                            \n",
      "__________________________________________________________________________________________________\n",
      "input_1 (InputLayer)            (None, 2048)         0                                            \n",
      "__________________________________________________________________________________________________\n",
      "embedding_1 (Embedding)         (None, 34, 256)      422912      input_2[0][0]                    \n",
      "__________________________________________________________________________________________________\n",
      "dropout_1 (Dropout)             (None, 2048)         0           input_1[0][0]                    \n",
      "__________________________________________________________________________________________________\n",
      "dropout_2 (Dropout)             (None, 34, 256)      0           embedding_1[0][0]                \n",
      "__________________________________________________________________________________________________\n",
      "dense_1 (Dense)                 (None, 256)          524544      dropout_1[0][0]                  \n",
      "__________________________________________________________________________________________________\n",
      "lstm_1 (LSTM)                   (None, 256)          525312      dropout_2[0][0]                  \n",
      "__________________________________________________________________________________________________\n",
      "add_1 (Add)                     (None, 256)          0           dense_1[0][0]                    \n",
      "                                                                 lstm_1[0][0]                     \n",
      "__________________________________________________________________________________________________\n",
      "dense_2 (Dense)                 (None, 256)          65792       add_1[0][0]                      \n",
      "__________________________________________________________________________________________________\n",
      "dense_3 (Dense)                 (None, 1652)         424564      dense_2[0][0]                    \n",
      "==================================================================================================\n",
      "Total params: 1,963,124\n",
      "Trainable params: 1,963,124\n",
      "Non-trainable params: 0\n",
      "__________________________________________________________________________________________________\n",
      "None\n"
     ]
    }
   ],
   "source": [
    "from keras.layers import LSTM, Embedding, Dense, Flatten, Dropout\n",
    "from keras.layers.merge import add\n",
    "from keras.models import Model\n",
    "from keras import Input\n",
    "\n",
    "# feature extractor model\n",
    "inputs1 = Input(shape=(2048,))\n",
    "fe1 = Dropout(0.5)(inputs1)\n",
    "fe2 = Dense(256, activation='relu')(fe1)\n",
    "\n",
    "# sequence model\n",
    "inputs2 = Input(shape=(max_length,))\n",
    "se1 = Embedding(vocab_size, 256, mask_zero=True)(inputs2)\n",
    "se2 = Dropout(0.5)(se1)\n",
    "se3 = LSTM(256)(se2)\n",
    "\n",
    "# decoder model\n",
    "decoder1 = add([fe2, se3])\n",
    "decoder2 = Dense(256, activation='relu')(decoder1)\n",
    "outputs = Dense(vocab_size, activation='softmax')(decoder2)\n",
    "\n",
    "# tie it together [image, seq] [word]\n",
    "base_model = Model(inputs=[inputs1, inputs2], outputs=outputs)\n",
    "base_model.compile(loss='categorical_crossentropy', optimizer='adam')\n",
    "\n",
    "# summarize model\n",
    "print(base_model.summary())"
   ]
  },
  {
   "cell_type": "code",
   "execution_count": 9,
   "metadata": {},
   "outputs": [
    {
     "data": {
      "image/png": "[encoded data removed]",
      "text/plain": [
       "<IPython.core.display.Image object>"
      ]
     },
     "execution_count": 9,
     "metadata": {},
     "output_type": "execute_result"
    }
   ],
   "source": [
    "from keras.utils import plot_model\n",
    "\n",
    "plot_model(base_model)"
   ]
  },
  {
   "cell_type": "markdown",
   "metadata": {
    "colab_type": "text",
    "id": "Mhhegv-3YsnB"
   },
   "source": [
    "## 6 - Train model"
   ]
  },
  {
   "cell_type": "code",
   "execution_count": 136,
   "metadata": {
    "ExecuteTime": {
     "end_time": "2020-06-17T12:55:33.500432Z",
     "start_time": "2020-06-17T12:51:29.485843Z"
    },
    "colab": {
     "base_uri": "https://localhost:8080/",
     "height": 357
    },
    "colab_type": "code",
    "id": "YPBneEGa6JEX",
    "outputId": "2bfa83a1-95f7-4f60-ba45-68c9f3ea62b3"
   },
   "outputs": [],
   "source": [
    "from tensorflow.keras.preprocessing.text import Tokenizer\n",
    "\n",
    "\n",
    "from collections import Counter\n",
    "\n",
    "all_train_captions = [desc \n",
    "                      for desc_list in train_descriptions.values() \n",
    "                      for desc in desc_list]\n",
    "\n",
    "top_k = 1651\n",
    "tokenizer = Tokenizer(num_words=1651, \n",
    "                      oov_token='<unk>', \n",
    "                      filters='!\"#$%&()*+.,-/:;=?@[\\]^_`{|}~ ')\n",
    "tokenizer.fit_on_texts(all_train_captions)\n",
    "max_length = max(len(t) for t in tokenizer.texts_to_sequences(all_train_captions))\n",
    "vocab_size = top_k + 1\n",
    "\n",
    "\n",
    "def data_generator(\n",
    "    descriptions: Dict[str, List], image_features: Dict[str, np.array], tokenizer,\n",
    "    max_length: int, vocab_size: int, num_images_per_epoch: int\n",
    "):\n",
    "    \"\"\"\n",
    "    The data generator will yield:\n",
    "        - X1: the extract features of an image (image_feature),\n",
    "        - X2: the accumulated word sequences of a description related to the image (in_seq)\n",
    "        -  y: the next encoded word sequence (out_seq)\n",
    "    X2 is padded with zeros up to max_length in order to keep the same dimension for all X2s.\n",
    "    \"\"\"\n",
    "    X1, X2, y = list(), list(), list()\n",
    "    n = 0\n",
    "    while 1:\n",
    "        for image_id, desc_list in descriptions.items():\n",
    "            n += 1\n",
    "            image_feature = image_features[image_id]\n",
    "            for desc in desc_list:\n",
    "                seq = tokenizer.texts_to_sequences([desc])[0]\n",
    "                # split one sequence into multiple X, y pairs\n",
    "                for i in range(1, len(seq)):\n",
    "                    # split into input and output pair\n",
    "                    in_seq, out_seq = seq[:i], seq[i]\n",
    "                    # pad input sequence\n",
    "                    in_seq = pad_sequences([in_seq], maxlen=max_length)[0]\n",
    "                    # encode output sequence\n",
    "                    out_seq = to_categorical([out_seq], num_classes=vocab_size)[0]\n",
    "                    X1.append(image_feature)\n",
    "                    X2.append(in_seq)\n",
    "                    y.append(out_seq)\n",
    "\n",
    "            if n == num_images_per_epoch:\n",
    "                yield [[np.array(X1), np.array(X2)], np.array(y)]\n",
    "                X1, X2, y = list(), list(), list()\n",
    "                n = 0\n",
    "\n",
    "epochs = 20\n",
    "number_pics_per_batch = 30\n",
    "train_steps = len(train_descriptions) // number_pics_per_batch\n",
    "validation_steps = len(dev_descriptions) // number_pics_per_batch\n",
    "\n",
    "history = list()\n",
    "\n",
    "for i in range(epochs):\n",
    "    train_generator = data_generator(\n",
    "        train_descriptions, \n",
    "        train_image_features, \n",
    "        tokenizer,\n",
    "        max_length, \n",
    "        vocab_size,\n",
    "        number_pics_per_batch,\n",
    "    )\n",
    "    dev_generator = data_generator(\n",
    "        dev_descriptions, \n",
    "        dev_image_features,\n",
    "        tokenizer,\n",
    "        max_length,\n",
    "        vocab_size,\n",
    "        number_pics_per_batch,\n",
    "    )\n",
    "    hist = base_model.fit(\n",
    "        train_generator, \n",
    "        validation_data=dev_generator, \n",
    "        epochs=1, \n",
    "        steps_per_epoch=train_steps,\n",
    "        validation_steps=validation_steps,\n",
    "        verbose=1,\n",
    "    )\n",
    "    history.append({\n",
    "        'loss': hist.history['loss'], \n",
    "        'val_loss': hist.history['val_loss'],\n",
    "    })\n",
    "    base_model.save('./base_model_weights/model_' + str(i) + '.h5')"
   ]
  },
  {
   "cell_type": "code",
   "execution_count": 137,
   "metadata": {},
   "outputs": [
    {
     "data": {
      "image/png": "[encoded data removed]",
      "text/plain": [
       "<Figure size 432x288 with 1 Axes>"
      ]
     },
     "metadata": {
      "needs_background": "light"
     },
     "output_type": "display_data"
    }
   ],
   "source": [
    "import matplotlib.pyplot as plt \n",
    "\n",
    "hist_df = pd.DataFrame(history)\n",
    "plt.plot(list(hist_df['loss']), label='loss')\n",
    "plt.plot(list(hist_df['val_loss']), label='val_loss')\n",
    "plt.legend()\n",
    "plt.ylabel('loss')\n",
    "plt.xlabel('epoch')\n",
    "plt.xticks(np.arange(0, epochs, 1))\n",
    "plt.grid()\n",
    "plt.show()"
   ]
  },
  {
   "cell_type": "markdown",
   "metadata": {
    "colab_type": "text",
    "id": "Y8JOTW1DTuTb"
   },
   "source": [
    "## 7 - Evaluate model\n",
    "\n"
   ]
  },
  {
   "cell_type": "code",
   "execution_count": 32,
   "metadata": {},
   "outputs": [],
   "source": [
    "def flatten(lst):\n",
    "    return sum(([x] if not isinstance(x, list) else flatten(x) for x in lst), [])\n",
    "\n",
    "def generate_caption_beam(pred_model, caption_train_tokenizer, photo, max_length, vocab_size, beam_width):\n",
    "    sequence = caption_train_tokenizer.texts_to_sequences(['startseq'])[0]\n",
    "    sequence = pad_sequences([sequence], maxlen=max_length)\n",
    "    model_softMax_output = np.squeeze(pred_model.predict([photo,sequence], verbose=0))\n",
    "    most_likely_seq=np.argsort(model_softMax_output)[-beam_width:]\n",
    "    most_likely_prob=np.log(model_softMax_output[most_likely_seq])\n",
    "\n",
    "\n",
    "    most_likely_cap = list()\n",
    "    for j in range(beam_width):\n",
    "        most_likely_cap.append(list())\n",
    "        most_likely_cap[j] =[[caption_train_tokenizer.index_word[most_likely_seq[j]]]]\n",
    "\n",
    "    for i in range(max_length):    \n",
    "        temp_prob = np.zeros((beam_width, vocab_size))\n",
    "        for j in range(beam_width):\n",
    "            if most_likely_cap[j][-1] != ['endseq']: #if not terminated\n",
    "                num_words = len(most_likely_cap[j])\n",
    "                sequence = caption_train_tokenizer.texts_to_sequences(most_likely_cap[j])\n",
    "                sequence = pad_sequences(np.transpose(sequence), maxlen=max_length)\n",
    "                model_softMax_output = pred_model.predict([photo, sequence], verbose=0)\n",
    "                temp_prob[j,] = (1/(num_words)) *(most_likely_prob[j]*(num_words-1) + np.log(model_softMax_output)) #update most likily prob\n",
    "            else:\n",
    "                temp_prob[j,] = most_likely_prob[j] + np.zeros(vocab_size) - np.inf\n",
    "                temp_prob[j,0] = most_likely_prob[j]\n",
    "\n",
    "\n",
    "        x_idx, y_idx = np.unravel_index(temp_prob.flatten().argsort()[-beam_width:], temp_prob.shape)\n",
    "\n",
    "        most_likely_cap_temp = list()\n",
    "        for j in range(beam_width):\n",
    "            most_likely_prob[j] = temp_prob[x_idx[j],y_idx[j]]\n",
    "            most_likely_cap_temp.append(list())\n",
    "            most_likely_cap_temp[j] = most_likely_cap[x_idx[j]].copy()\n",
    "            if most_likely_cap_temp[j][-1] != ['endseq']:\n",
    "                most_likely_cap_temp[j].append([caption_train_tokenizer.index_word[y_idx[j]]])\n",
    "\n",
    "        most_likely_cap = most_likely_cap_temp.copy()\n",
    "\n",
    "        finished = True\n",
    "        for j in range(beam_width):\n",
    "            if most_likely_cap_temp[j][-1] != ['endseq']:\n",
    "                finished = False\n",
    "\n",
    "        if finished == True:\n",
    "            break\n",
    "\n",
    "    final_caption = list()\n",
    "\n",
    "    for j in range(beam_width):\n",
    "        final_caption.append(' '.join(flatten(most_likely_cap[j][0:-1])))\n",
    "\n",
    "\n",
    "    return final_caption, most_likely_prob"
   ]
  },
  {
   "cell_type": "code",
   "execution_count": 33,
   "metadata": {},
   "outputs": [],
   "source": [
    "def greedySearch(photo, model):\n",
    "    in_text = 'startseq'\n",
    "    for i in range(max_length):\n",
    "#         sequence = [wordtoix[w] for w in in_text.split() if w in wordtoix]\n",
    "        sequence = tokenizer.texts_to_sequences([in_text])[0]\n",
    "        sequence = pad_sequences([sequence], maxlen=max_length)\n",
    "        yhat = model.predict([photo, sequence], verbose=0)\n",
    "        yhat = np.argmax(yhat)\n",
    "        word = tokenizer.index_word[yhat]\n",
    "        in_text += ' ' + word\n",
    "        if word == 'endseq':\n",
    "            break\n",
    "    final = in_text.split()\n",
    "    final = final[1:-1]\n",
    "    final = ' '.join(final)\n",
    "    return final"
   ]
  },
  {
   "cell_type": "markdown",
   "metadata": {
    "colab_type": "text",
    "id": "HSINNIqd5GJJ"
   },
   "source": [
    "### BLEU\n",
    "\n",
    "The primary programming task for a BLEU implementor is to compare n-grams of the candidate with the n-grams of the reference translation and count the number of matches. These matches are position-independent. The more the matches, the better the candidate translation is.\n",
    "\n",
    "Cumulative N-Gram Scores\n",
    "Cumulative scores refer to the calculation of individual n-gram scores at all orders from 1 to n and weighting them by calculating the weighted geometric mean.\n",
    "\n",
    "The cumulative and individual 1-gram BLEU use the same weights, e.g. (1, 0, 0, 0). The 2-gram weights assign a 50% to each of 1-gram and 2-gram and the 3-gram weights are 33% for each of the 1, 2 and 3-gram scores. The weights for the BLEU-4 are 1/4 (25%) or 0.25 for each of the 1-gram, 2-gram, 3-gram and 4-gram scores. \n",
    "\n",
    "Source - https://machinelearningmastery.com/calculate-bleu-score-for-text-python/\n",
    "\n",
    "Code for evaluation adapted from https://machinelearningmastery.com/develop-a-deep-learning-caption-generation-model-in-python/\n"
   ]
  },
  {
   "cell_type": "code",
   "execution_count": 37,
   "metadata": {
    "ExecuteTime": {
     "end_time": "2020-06-18T01:28:09.007110Z",
     "start_time": "2020-06-18T01:28:08.856618Z"
    },
    "colab": {},
    "colab_type": "code",
    "id": "L7qiwN-UwJJq"
   },
   "outputs": [],
   "source": [
    "from tqdm import tqdm\n",
    "from nltk.translate.bleu_score import corpus_bleu\n",
    "\n",
    "\n",
    "def get_one_with_highest_log_prob(captions, log_prob):\n",
    "    return sorted([(c, p) for c, p in zip(captions, log_prob)], key=lambda x: x[1])[-1]\n",
    "\n",
    "\n",
    "def bleu_evalulate(model, descriptions, image_features, beam_width=3):\n",
    "    \n",
    "    actual, predicted = list(), list()\n",
    "    # step over the whole dataset\n",
    "    for image_id, desc_list in tqdm(descriptions.items(), desc=f'Evaluating model with BLEU using Beam Search with {beam_width} beam_width'):\n",
    "        captions, log_probs = generate_caption_beam(\n",
    "            model,\n",
    "            tokenizer,\n",
    "            image_features[image_id].reshape((1, 2048)), \n",
    "            max_length, \n",
    "            vocab_size, \n",
    "            beam_width,\n",
    "        )\n",
    "        pred_cap, prob = get_one_with_highest_log_prob(captions, log_probs)\n",
    "        \n",
    "        # store actual and predicted\n",
    "        references = [d.split() for d in desc_list]\n",
    "        actual.append(references)\n",
    "        predicted.append(pred_cap.split())\n",
    "\n",
    "    # calculate BLEU scores\n",
    "    print('BLEU-1: %f' % corpus_bleu(actual, predicted, weights=(1.0, 0, 0, 0)))\n",
    "    print('BLEU-2: %f' % corpus_bleu(actual, predicted, weights=(0.5, 0.5, 0, 0)))\n",
    "    print('BLEU-3: %f' % corpus_bleu(actual, predicted, weights=(0.3, 0.3, 0.3, 0)))\n",
    "    print('BLEU-4: %f' % corpus_bleu(actual, predicted, weights=(0.25, 0.25, 0.25, 0.25)))\n",
    "    return actual, predicted"
   ]
  },
  {
   "cell_type": "code",
   "execution_count": 38,
   "metadata": {},
   "outputs": [],
   "source": [
    "test_image_ids = [img_path.split('/')[-1].split('.')[0] for img_path in test_img_paths]\n",
    "test_descriptions = load_splitted_descriptions('descriptions.txt', test_image_ids)\n",
    "test_image_features = pickle.load(open(\"test_image_encodings.pickle\", \"rb\"))"
   ]
  },
  {
   "cell_type": "code",
   "execution_count": 39,
   "metadata": {},
   "outputs": [
    {
     "name": "stderr",
     "output_type": "stream",
     "text": [
      "/home/ubuntu/anaconda3/envs/tensorflow2_p36/lib/python3.6/site-packages/tensorflow/python/framework/indexed_slices.py:434: UserWarning: Converting sparse IndexedSlices to a dense Tensor of unknown shape. This may consume a large amount of memory.\n",
      "  \"Converting sparse IndexedSlices to a dense Tensor of unknown shape. \"\n"
     ]
    }
   ],
   "source": [
    "from keras.models import load_model\n",
    "model = load_model('final_model_2/model_10.h5')"
   ]
  },
  {
   "cell_type": "code",
   "execution_count": 229,
   "metadata": {},
   "outputs": [
    {
     "name": "stderr",
     "output_type": "stream",
     "text": [
      "Evaluating model with BLEU using Greedy Search: 100%|██████████| 1000/1000 [13:58<00:00,  1.19it/s]\n"
     ]
    },
    {
     "name": "stdout",
     "output_type": "stream",
     "text": [
      "BLEU-1: 0.441351\n",
      "BLEU-2: 0.276391\n",
      "BLEU-3: 0.203057\n",
      "BLEU-4: 0.102023\n"
     ]
    }
   ],
   "source": [
    "# Beam\n",
    "bleu_evalulate(model, test_descriptions, test_image_features, beam_width=10)"
   ]
  },
  {
   "cell_type": "code",
   "execution_count": 238,
   "metadata": {},
   "outputs": [
    {
     "name": "stderr",
     "output_type": "stream",
     "text": [
      "Evaluating model with BLEU using Greedy Search: 100%|██████████| 1000/1000 [04:14<00:00,  3.92it/s]\n"
     ]
    },
    {
     "name": "stdout",
     "output_type": "stream",
     "text": [
      "BLEU-1: 0.452607\n",
      "BLEU-2: 0.273654\n",
      "BLEU-3: 0.194360\n",
      "BLEU-4: 0.091870\n"
     ]
    }
   ],
   "source": [
    "# Beam 3\n",
    "bleu_evalulate(model, test_descriptions, test_image_features)"
   ]
  },
  {
   "cell_type": "code",
   "execution_count": 258,
   "metadata": {},
   "outputs": [
    {
     "name": "stderr",
     "output_type": "stream",
     "text": [
      "Evaluating model with BLEU using Greedy Search: 100%|██████████| 1000/1000 [01:21<00:00, 12.25it/s]\n"
     ]
    },
    {
     "name": "stdout",
     "output_type": "stream",
     "text": [
      "BLEU-1: 0.453945\n",
      "BLEU-2: 0.261326\n",
      "BLEU-3: 0.176745\n",
      "BLEU-4: 0.076341\n"
     ]
    }
   ],
   "source": [
    "# Greedy\n",
    "bleu_evalulate(model, test_descriptions, test_image_features, beam_width=1)"
   ]
  },
  {
   "cell_type": "code",
   "execution_count": 78,
   "metadata": {},
   "outputs": [
    {
     "data": {
      "image/png": "[encoded data removed]",
      "text/plain": [
       "<Figure size 432x288 with 1 Axes>"
      ]
     },
     "metadata": {
      "needs_background": "light"
     },
     "output_type": "display_data"
    }
   ],
   "source": [
    "img_id = list(test_image_features.keys())[10]\n",
    "x = plt.imread(f'{FLICKR8K_DATASET}/{img_id}.jpg')\n",
    "plt.imshow(x)\n",
    "plt.show()"
   ]
  },
  {
   "cell_type": "code",
   "execution_count": 100,
   "metadata": {},
   "outputs": [
    {
     "data": {
      "text/plain": [
       "[('man in red shirt is standing in front of mountain', -1.0768248)]"
      ]
     },
     "execution_count": 100,
     "metadata": {},
     "output_type": "execute_result"
    }
   ],
   "source": [
    "captions, log_prob = generate_caption_beam(\n",
    "    base_model,\n",
    "    tokenizer,\n",
    "    test_image_features[img_id].reshape((1, 2048)), \n",
    "    max_length, \n",
    "    vocab_size, \n",
    "    1,\n",
    ")\n",
    "t = []\n",
    "for c, p in zip(captions, log_prob):\n",
    "    t.append((c, p))\n",
    "sorted(t, key=lambda x: x[1])"
   ]
  },
  {
   "cell_type": "code",
   "execution_count": 101,
   "metadata": {},
   "outputs": [
    {
     "data": {
      "text/plain": [
       "[('the man in the blue shirt is standing in front of the mountains',\n",
       "  -0.96945566),\n",
       " ('group of people are standing in front of mountain', -0.9595049),\n",
       " ('the man in the red shirt is standing in front of the mountains',\n",
       "  -0.94657654),\n",
       " ('group of people stand in front of mountain', -0.9419054),\n",
       " ('the man in the blue shirt is standing in front of mountain', -0.9285996),\n",
       " ('the man in the red shirt is standing in front of waterfall', -0.91085356),\n",
       " ('the man in the red shirt is standing in front of mountain', -0.9032783),\n",
       " ('group of people standing in front of waterfall', -0.8824206),\n",
       " ('group of people are standing in front of waterfall', -0.870782),\n",
       " ('group of people stand in front of waterfall', -0.82130915)]"
      ]
     },
     "execution_count": 101,
     "metadata": {},
     "output_type": "execute_result"
    }
   ],
   "source": [
    "captions, log_prob = generate_caption_beam(\n",
    "    base_model,\n",
    "    tokenizer,\n",
    "    test_image_features[img_id].reshape((1, 2048)), \n",
    "    max_length, \n",
    "    vocab_size, \n",
    "    10,\n",
    ")\n",
    "t = []\n",
    "for c, p in zip(captions, log_prob):\n",
    "    t.append((c, p))\n",
    "sorted(t, key=lambda x: x[1])"
   ]
  },
  {
   "cell_type": "markdown",
   "metadata": {},
   "source": [
    "## Hyperparameter Tuning"
   ]
  },
  {
   "cell_type": "code",
   "execution_count": 7,
   "metadata": {},
   "outputs": [
    {
     "name": "stdout",
     "output_type": "stream",
     "text": [
      "34\n"
     ]
    }
   ],
   "source": [
    "from tensorflow.keras.preprocessing.text import Tokenizer\n",
    "\n",
    "tokenizer = Tokenizer(oov_token='<unk>', \n",
    "                      filters='!\"#$%&()*+.,-/:;=?@[\\]^_`{|}~ ')\n",
    "tokenizer.fit_on_texts(all_train_captions)\n",
    "max_length = max(len(t) for t in tokenizer.texts_to_sequences(all_train_captions))\n",
    "vocab_size = len(tokenizer.index_word) + 1\n",
    "\n",
    "# Load Glove vectors\n",
    "glove_dir = 'glove'\n",
    "embeddings_index = {} # empty dictionary\n",
    "f = open(os.path.join(glove_dir, 'glove.6B.300d.txt'), encoding=\"utf-8\")\n",
    "\n",
    "for line in f:\n",
    "    values = line.split()\n",
    "    word = values[0]\n",
    "    coefs = np.asarray(values[1:], dtype='float32')\n",
    "    embeddings_index[word] = coefs\n",
    "f.close()\n",
    "print('Found %s word vectors.' % len(embeddings_index))\n",
    "\n",
    "embedding_dim = 300\n",
    "\n",
    "# Get 200-dim dense vector for each of the 1652 words in our vocabulary\n",
    "embedding_matrix = np.zeros((vocab_size, embedding_dim))\n",
    "\n",
    "for word, i in tokenizer.word_index.items():\n",
    "    #if i < max_words:\n",
    "    embedding_vector = embeddings_index.get(word)\n",
    "    if embedding_vector is not None:\n",
    "        # Words not found in the embedding index will be all zeros\n",
    "        embedding_matrix[i] = embedding_vector"
   ]
  },
  {
   "cell_type": "code",
   "execution_count": 37,
   "metadata": {},
   "outputs": [
    {
     "data": {
      "text/plain": [
       "1652"
      ]
     },
     "execution_count": 37,
     "metadata": {},
     "output_type": "execute_result"
    }
   ],
   "source": [
    "# index our vocab to assign a number to each word, important for model input.\n",
    "ixtoword = {}\n",
    "wordtoix = {}\n",
    "\n",
    "ix = 1\n",
    "for w in vocabs:\n",
    "    wordtoix[w] = ix\n",
    "    ixtoword[ix] = w\n",
    "    ix += 1\n",
    "\n",
    "# get vocab size to put into embedding layer in the model\n",
    "vocab_size = len(ixtoword) + 1 # one for appended 0's\n",
    "vocab_size"
   ]
  },
  {
   "cell_type": "code",
   "execution_count": 41,
   "metadata": {},
   "outputs": [
    {
     "data": {
      "text/plain": [
       "'camels'"
      ]
     },
     "execution_count": 41,
     "metadata": {},
     "output_type": "execute_result"
    }
   ],
   "source": [
    "ixtoword[1651]"
   ]
  },
  {
   "cell_type": "code",
   "execution_count": 52,
   "metadata": {},
   "outputs": [
    {
     "data": {
      "text/plain": [
       "[[1645, 1646, 1, 1651, 1, 1, 1]]"
      ]
     },
     "execution_count": 52,
     "metadata": {},
     "output_type": "execute_result"
    }
   ],
   "source": [
    "tokenizer.texts_to_sequences(['control tuxedos kiddle masks mural boston soft'])"
   ]
  },
  {
   "cell_type": "code",
   "execution_count": 51,
   "metadata": {},
   "outputs": [
    {
     "name": "stdout",
     "output_type": "stream",
     "text": [
      "1645 control\n",
      "1646 tuxedos\n",
      "1647 kiddie\n",
      "1648 stretches\n",
      "1649 accordion\n",
      "1650 bone\n",
      "1651 masks\n",
      "1652 mural\n",
      "1653 boston\n",
      "1654 soft\n"
     ]
    }
   ],
   "source": [
    "for i in range(1645, 1655):\n",
    "    print(i, tokenizer.index_word[i])"
   ]
  },
  {
   "cell_type": "code",
   "execution_count": 8,
   "metadata": {},
   "outputs": [
    {
     "name": "stdout",
     "output_type": "stream",
     "text": [
      "Found 400000 word vectors.\n"
     ]
    }
   ],
   "source": [
    "# Load Glove vectors\n",
    "glove_dir = 'glove'\n",
    "embeddings_index = {} # empty dictionary\n",
    "f = open(os.path.join(glove_dir, 'glove.6B.300d.txt'), encoding=\"utf-8\")\n",
    "\n",
    "for line in f:\n",
    "    values = line.split()\n",
    "    word = values[0]\n",
    "    coefs = np.asarray(values[1:], dtype='float32')\n",
    "    embeddings_index[word] = coefs\n",
    "f.close()\n",
    "print('Found %s word vectors.' % len(embeddings_index))"
   ]
  },
  {
   "cell_type": "code",
   "execution_count": 9,
   "metadata": {},
   "outputs": [
    {
     "data": {
      "text/plain": [
       "7579"
      ]
     },
     "execution_count": 9,
     "metadata": {},
     "output_type": "execute_result"
    }
   ],
   "source": [
    "max(tokenizer.index_word.keys())"
   ]
  },
  {
   "cell_type": "code",
   "execution_count": 10,
   "metadata": {},
   "outputs": [],
   "source": [
    "embedding_dim = 300\n",
    "\n",
    "# Get 200-dim dense vector for each of the 1652 words in our vocabulary\n",
    "embedding_matrix = np.zeros((vocab_size, embedding_dim))\n",
    "\n",
    "for word, i in tokenizer.word_index.items():\n",
    "    #if i < max_words:\n",
    "    embedding_vector = embeddings_index.get(word)\n",
    "    if embedding_vector is not None:\n",
    "        # Words not found in the embedding index will be all zeros\n",
    "        embedding_matrix[i] = embedding_vector"
   ]
  },
  {
   "cell_type": "code",
   "execution_count": 10,
   "metadata": {},
   "outputs": [],
   "source": [
    "from keras.optimizers import Adam, RMSprop\n",
    "\n",
    "hyperparameters = [\n",
    "    {\n",
    "        'dropout_rate': 0.5,\n",
    "        'activation': 'relu',\n",
    "        'dense_units': 512,\n",
    "        'gru_layers': 3,\n",
    "        'lr': \t0.0005,\n",
    "        'optimizer': Adam,\n",
    "    },\n",
    "    {\n",
    "        'dropout_rate': 0.2,\n",
    "        'activation': 'relu',\n",
    "        'dense_units': 256,\n",
    "        'gru_layers': 3,\n",
    "        'lr': \t0.001,\n",
    "        'optimizer': Adam,\n",
    "    },\n",
    "    {\n",
    "        'dropout_rate': 0.4,\n",
    "        'activation': 'selu',\n",
    "        'dense_units': 512,\n",
    "        'gru_layers': 2,\n",
    "        'lr': \t0.002,\n",
    "        'optimizer': Adam,\n",
    "    },\n",
    "    {\n",
    "        'dropout_rate': 0.45,\n",
    "        'activation': 'relu',\n",
    "        'dense_units': 512,\n",
    "        'gru_layers': 2,\n",
    "        'lr': 0.008,\n",
    "        'optimizer': RMSprop,\n",
    "    },\n",
    "    {\n",
    "        'dropout_rate': 0.1,\n",
    "        'activation': 'relu',\n",
    "        'dense_units': 512,\n",
    "        'gru_layers': 2,\n",
    "        'lr': 0.001,\n",
    "        'optimizer': RMSprop,\n",
    "    },\n",
    "    {\n",
    "        'dropout_rate': 0.1,\n",
    "        'activation': 'relu',\n",
    "        'dense_units': 256,\n",
    "        'gru_layers': 1,\n",
    "        'lr': \t0.003,\n",
    "        'optimizer': Adam,\n",
    "    },\n",
    "    {\n",
    "        'dropout_rate': 0.1,\n",
    "        'activation': 'relu',\n",
    "        'dense_units': 512,\n",
    "        'gru_layers': 2,\n",
    "        'lr': 0.001,\n",
    "        'optimizer': Adam,\n",
    "    },\n",
    "]"
   ]
  },
  {
   "cell_type": "code",
   "execution_count": 13,
   "metadata": {},
   "outputs": [
    {
     "name": "stdout",
     "output_type": "stream",
     "text": [
      "Model: \"model_1\"\n",
      "__________________________________________________________________________________________________\n",
      "Layer (type)                    Output Shape         Param #     Connected to                     \n",
      "==================================================================================================\n",
      "input_3 (InputLayer)            (None, 34)           0                                            \n",
      "__________________________________________________________________________________________________\n",
      "embedding_1 (Embedding)         (None, 34, 300)      2274000     input_3[0][0]                    \n",
      "__________________________________________________________________________________________________\n",
      "gru_1 (GRU)                     (None, 34, 300)      540900      embedding_1[0][0]                \n",
      "__________________________________________________________________________________________________\n",
      "dropout_3 (Dropout)             (None, 34, 300)      0           gru_1[0][0]                      \n",
      "__________________________________________________________________________________________________\n",
      "input_2 (InputLayer)            (None, 2048)         0                                            \n",
      "__________________________________________________________________________________________________\n",
      "gru_2 (GRU)                     (None, 34, 300)      540900      dropout_3[0][0]                  \n",
      "__________________________________________________________________________________________________\n",
      "dropout_2 (Dropout)             (None, 2048)         0           input_2[0][0]                    \n",
      "__________________________________________________________________________________________________\n",
      "dropout_4 (Dropout)             (None, 34, 300)      0           gru_2[0][0]                      \n",
      "__________________________________________________________________________________________________\n",
      "dense_1 (Dense)                 (None, 300)          614700      dropout_2[0][0]                  \n",
      "__________________________________________________________________________________________________\n",
      "gru_3 (GRU)                     (None, 34, 300)      540900      dropout_4[0][0]                  \n",
      "__________________________________________________________________________________________________\n",
      "add_1 (Add)                     (None, 34, 300)      0           dense_1[0][0]                    \n",
      "                                                                 gru_3[0][0]                      \n",
      "__________________________________________________________________________________________________\n",
      "dense_2 (Dense)                 (None, 34, 300)      90300       add_1[0][0]                      \n",
      "__________________________________________________________________________________________________\n",
      "global_average_pooling1d_1 (Glo (None, 300)          0           dense_2[0][0]                    \n",
      "__________________________________________________________________________________________________\n",
      "dense_3 (Dense)                 (None, 7580)         2281580     global_average_pooling1d_1[0][0] \n",
      "==================================================================================================\n",
      "Total params: 6,883,280\n",
      "Trainable params: 6,883,280\n",
      "Non-trainable params: 0\n",
      "__________________________________________________________________________________________________\n",
      "None\n"
     ]
    }
   ],
   "source": [
    "from keras.layers import LSTM, GRU, Embedding, Dense, Flatten, Dropout, GlobalAveragePooling1D\n",
    "from keras.layers.merge import add\n",
    "from keras.models import Model\n",
    "from keras import Input\n",
    "\n",
    "dense_units = 300\n",
    "\n",
    "inputs1 = Input(shape=(2048,))\n",
    "fe1 = Dropout(0.3)(inputs1)\n",
    "fe2 = Dense(dense_units, activation='relu')(fe1)\n",
    "inputs2 = Input(shape=(max_length,))\n",
    "se1 = Embedding(vocab_size, embedding_dim, mask_zero=True, embeddings_initializer='glorot_uniform',\n",
    "                    weights=[embedding_matrix])(inputs2)\n",
    "se2 = GRU(dense_units, return_sequences=True) (se1)\n",
    "se21 = Dropout(0.3)(se2)\n",
    "se3 = GRU(dense_units, return_sequences=True) (se21)\n",
    "se4 = Dropout(0.3)(se3)\n",
    "se5 = GRU(dense_units, return_sequences=True) (se4)\n",
    "decoder1 = add([fe2, se5])\n",
    "decoder2 = Dense(dense_units, activation='relu')(decoder1)\n",
    "flat = GlobalAveragePooling1D()(decoder2)\n",
    "outputs = Dense(vocab_size, activation='softmax')(flat)\n",
    "model = Model(inputs=[inputs1, inputs2], outputs=outputs)\n",
    "model.compile(loss='categorical_crossentropy', optimizer='RMSprop')\n",
    "\n",
    "# summarize model\n",
    "print(model.summary())"
   ]
  },
  {
   "cell_type": "code",
   "execution_count": 11,
   "metadata": {},
   "outputs": [],
   "source": [
    "from keras.layers import LSTM, GRU, Embedding, Dense, Flatten, Dropout\n",
    "from keras.layers.merge import add\n",
    "from keras.models import Model\n",
    "from keras import Input\n",
    "\n",
    "\n",
    "def get_model(dropout_rate, activation, dense_units, lr, gru_layers, optimizer):\n",
    "    # feature extractor model\n",
    "    inputs1 = Input(shape=(2048,))\n",
    "    fe1 = Dropout(dropout_rate)(inputs1)\n",
    "    fe2 = Dense(dense_units, activation=activation)(fe1)\n",
    "\n",
    "    # sequence model\n",
    "    inputs2 = Input(shape=(max_length,))\n",
    "    se = Embedding(\n",
    "        vocab_size, \n",
    "        embedding_dim, \n",
    "        mask_zero=True,\n",
    "        weights=[embedding_matrix],\n",
    "    )(inputs2)\n",
    "    for i in range(gru_layers-1):\n",
    "        se = GRU(\n",
    "            dense_units, \n",
    "            dropout=dropout_rate,\n",
    "            return_sequences=True,\n",
    "        )(se)\n",
    "    se2 = GRU(\n",
    "        dense_units,\n",
    "        dropout=dropout_rate,\n",
    "    )(se)\n",
    "\n",
    "    # decoder model\n",
    "    decoder1 = add([fe2, se2])\n",
    "    decoder2 = Dense(dense_units, activation=activation)(decoder1)\n",
    "    outputs = Dense(vocab_size, activation='softmax')(decoder2)\n",
    "\n",
    "    # tie it together [image, seq] [word]\n",
    "    model = Model(inputs=[inputs1, inputs2], outputs=outputs)\n",
    "    model.compile(loss='categorical_crossentropy', optimizer=optimizer(lr))\n",
    "    return model"
   ]
  },
  {
   "cell_type": "code",
   "execution_count": 16,
   "metadata": {},
   "outputs": [],
   "source": [
    "history = defaultdict(list)"
   ]
  },
  {
   "cell_type": "code",
   "execution_count": 13,
   "metadata": {},
   "outputs": [
    {
     "name": "stdout",
     "output_type": "stream",
     "text": [
      "{'dropout_rate': 0.1, 'activation': 'relu', 'dense_units': 512, 'gru_layers': 2, 'lr': 0.001, 'optimizer': <class 'keras.optimizers.RMSprop'>}\n"
     ]
    }
   ],
   "source": [
    "for n, hp in enumerate(hyperparameters):\n",
    "    if n != 4:\n",
    "        continue\n",
    "    print(hp)"
   ]
  },
  {
   "cell_type": "code",
   "execution_count": 17,
   "metadata": {},
   "outputs": [
    {
     "name": "stdout",
     "output_type": "stream",
     "text": [
      "Epoch 1/1\n",
      "187/187 [==============================] - 126s 672ms/step - loss: 4.7522 - val_loss: 4.4973\n",
      "Epoch 1/1\n",
      "187/187 [==============================] - 126s 673ms/step - loss: 4.3962 - val_loss: 4.2382\n",
      "Epoch 1/1\n",
      "187/187 [==============================] - 126s 672ms/step - loss: 4.1498 - val_loss: 4.0702\n",
      "Epoch 1/1\n",
      "187/187 [==============================] - 126s 672ms/step - loss: 3.9514 - val_loss: 3.9520\n",
      "Epoch 1/1\n",
      "187/187 [==============================] - 125s 671ms/step - loss: 3.7922 - val_loss: 3.9249\n",
      "Epoch 1/1\n",
      "187/187 [==============================] - 89s 476ms/step - loss: 3.6616 - val_loss: 3.8187\n",
      "Epoch 1/1\n",
      "187/187 [==============================] - 96s 513ms/step - loss: 3.5461 - val_loss: 3.7718\n",
      "Epoch 1/1\n",
      "187/187 [==============================] - 115s 616ms/step - loss: 3.4510 - val_loss: 3.7242\n",
      "Epoch 1/1\n",
      "187/187 [==============================] - 108s 580ms/step - loss: 3.3597 - val_loss: 3.7182\n",
      "Epoch 1/1\n",
      "187/187 [==============================] - 108s 577ms/step - loss: 3.2877 - val_loss: 3.6863\n",
      "Epoch 1/1\n",
      "187/187 [==============================] - 116s 620ms/step - loss: 3.2168 - val_loss: 3.8059\n",
      "Epoch 1/1\n",
      "187/187 [==============================] - 116s 618ms/step - loss: 3.1476 - val_loss: 3.6793\n",
      "Epoch 1/1\n",
      "187/187 [==============================] - 116s 619ms/step - loss: 3.0894 - val_loss: 3.6905\n",
      "Epoch 1/1\n",
      "187/187 [==============================] - 116s 619ms/step - loss: 3.0329 - val_loss: 3.8050\n",
      "Epoch 1/1\n",
      "136/187 [====================>.........] - ETA: 29s - loss: 2.9761"
     ]
    },
    {
     "ename": "KeyboardInterrupt",
     "evalue": "",
     "output_type": "error",
     "traceback": [
      "\u001b[0;31m---------------------------------------------------------------------------\u001b[0m",
      "\u001b[0;31mKeyboardInterrupt\u001b[0m                         Traceback (most recent call last)",
      "\u001b[0;32m<ipython-input-17-e2aba0de196d>\u001b[0m in \u001b[0;36m<module>\u001b[0;34m\u001b[0m\n\u001b[1;32m     40\u001b[0m             \u001b[0msteps_per_epoch\u001b[0m\u001b[0;34m=\u001b[0m\u001b[0mtrain_steps\u001b[0m\u001b[0;34m,\u001b[0m\u001b[0;34m\u001b[0m\u001b[0;34m\u001b[0m\u001b[0m\n\u001b[1;32m     41\u001b[0m             \u001b[0mvalidation_steps\u001b[0m\u001b[0;34m=\u001b[0m\u001b[0mvalidation_steps\u001b[0m\u001b[0;34m,\u001b[0m\u001b[0;34m\u001b[0m\u001b[0;34m\u001b[0m\u001b[0m\n\u001b[0;32m---> 42\u001b[0;31m             \u001b[0mverbose\u001b[0m\u001b[0;34m=\u001b[0m\u001b[0;36m1\u001b[0m\u001b[0;34m,\u001b[0m\u001b[0;34m\u001b[0m\u001b[0;34m\u001b[0m\u001b[0m\n\u001b[0m\u001b[1;32m     43\u001b[0m         )\n\u001b[1;32m     44\u001b[0m         history[f'model_{n}'].append({\n",
      "\u001b[0;32m~/anaconda3/envs/tensorflow2_p36/lib/python3.6/site-packages/keras/engine/training.py\u001b[0m in \u001b[0;36mfit\u001b[0;34m(self, x, y, batch_size, epochs, verbose, callbacks, validation_split, validation_data, shuffle, class_weight, sample_weight, initial_epoch, steps_per_epoch, validation_steps, validation_freq, max_queue_size, workers, use_multiprocessing, **kwargs)\u001b[0m\n\u001b[1;32m   1145\u001b[0m                 \u001b[0muse_multiprocessing\u001b[0m\u001b[0;34m=\u001b[0m\u001b[0muse_multiprocessing\u001b[0m\u001b[0;34m,\u001b[0m\u001b[0;34m\u001b[0m\u001b[0;34m\u001b[0m\u001b[0m\n\u001b[1;32m   1146\u001b[0m                 \u001b[0mshuffle\u001b[0m\u001b[0;34m=\u001b[0m\u001b[0mshuffle\u001b[0m\u001b[0;34m,\u001b[0m\u001b[0;34m\u001b[0m\u001b[0;34m\u001b[0m\u001b[0m\n\u001b[0;32m-> 1147\u001b[0;31m                 initial_epoch=initial_epoch)\n\u001b[0m\u001b[1;32m   1148\u001b[0m \u001b[0;34m\u001b[0m\u001b[0m\n\u001b[1;32m   1149\u001b[0m         \u001b[0;31m# Case 2: Symbolic tensors or Numpy array-like.\u001b[0m\u001b[0;34m\u001b[0m\u001b[0;34m\u001b[0m\u001b[0;34m\u001b[0m\u001b[0m\n",
      "\u001b[0;32m~/anaconda3/envs/tensorflow2_p36/lib/python3.6/site-packages/keras/legacy/interfaces.py\u001b[0m in \u001b[0;36mwrapper\u001b[0;34m(*args, **kwargs)\u001b[0m\n\u001b[1;32m     89\u001b[0m                 warnings.warn('Update your `' + object_name + '` call to the ' +\n\u001b[1;32m     90\u001b[0m                               'Keras 2 API: ' + signature, stacklevel=2)\n\u001b[0;32m---> 91\u001b[0;31m             \u001b[0;32mreturn\u001b[0m \u001b[0mfunc\u001b[0m\u001b[0;34m(\u001b[0m\u001b[0;34m*\u001b[0m\u001b[0margs\u001b[0m\u001b[0;34m,\u001b[0m \u001b[0;34m**\u001b[0m\u001b[0mkwargs\u001b[0m\u001b[0;34m)\u001b[0m\u001b[0;34m\u001b[0m\u001b[0;34m\u001b[0m\u001b[0m\n\u001b[0m\u001b[1;32m     92\u001b[0m         \u001b[0mwrapper\u001b[0m\u001b[0;34m.\u001b[0m\u001b[0m_original_function\u001b[0m \u001b[0;34m=\u001b[0m \u001b[0mfunc\u001b[0m\u001b[0;34m\u001b[0m\u001b[0;34m\u001b[0m\u001b[0m\n\u001b[1;32m     93\u001b[0m         \u001b[0;32mreturn\u001b[0m \u001b[0mwrapper\u001b[0m\u001b[0;34m\u001b[0m\u001b[0;34m\u001b[0m\u001b[0m\n",
      "\u001b[0;32m~/anaconda3/envs/tensorflow2_p36/lib/python3.6/site-packages/keras/engine/training.py\u001b[0m in \u001b[0;36mfit_generator\u001b[0;34m(self, generator, steps_per_epoch, epochs, verbose, callbacks, validation_data, validation_steps, validation_freq, class_weight, max_queue_size, workers, use_multiprocessing, shuffle, initial_epoch)\u001b[0m\n\u001b[1;32m   1730\u001b[0m             \u001b[0muse_multiprocessing\u001b[0m\u001b[0;34m=\u001b[0m\u001b[0muse_multiprocessing\u001b[0m\u001b[0;34m,\u001b[0m\u001b[0;34m\u001b[0m\u001b[0;34m\u001b[0m\u001b[0m\n\u001b[1;32m   1731\u001b[0m             \u001b[0mshuffle\u001b[0m\u001b[0;34m=\u001b[0m\u001b[0mshuffle\u001b[0m\u001b[0;34m,\u001b[0m\u001b[0;34m\u001b[0m\u001b[0;34m\u001b[0m\u001b[0m\n\u001b[0;32m-> 1732\u001b[0;31m             initial_epoch=initial_epoch)\n\u001b[0m\u001b[1;32m   1733\u001b[0m \u001b[0;34m\u001b[0m\u001b[0m\n\u001b[1;32m   1734\u001b[0m     \u001b[0;34m@\u001b[0m\u001b[0minterfaces\u001b[0m\u001b[0;34m.\u001b[0m\u001b[0mlegacy_generator_methods_support\u001b[0m\u001b[0;34m\u001b[0m\u001b[0;34m\u001b[0m\u001b[0m\n",
      "\u001b[0;32m~/anaconda3/envs/tensorflow2_p36/lib/python3.6/site-packages/keras/engine/training_generator.py\u001b[0m in \u001b[0;36mfit_generator\u001b[0;34m(model, generator, steps_per_epoch, epochs, verbose, callbacks, validation_data, validation_steps, validation_freq, class_weight, max_queue_size, workers, use_multiprocessing, shuffle, initial_epoch)\u001b[0m\n\u001b[1;32m    218\u001b[0m                                             \u001b[0msample_weight\u001b[0m\u001b[0;34m=\u001b[0m\u001b[0msample_weight\u001b[0m\u001b[0;34m,\u001b[0m\u001b[0;34m\u001b[0m\u001b[0;34m\u001b[0m\u001b[0m\n\u001b[1;32m    219\u001b[0m                                             \u001b[0mclass_weight\u001b[0m\u001b[0;34m=\u001b[0m\u001b[0mclass_weight\u001b[0m\u001b[0;34m,\u001b[0m\u001b[0;34m\u001b[0m\u001b[0;34m\u001b[0m\u001b[0m\n\u001b[0;32m--> 220\u001b[0;31m                                             reset_metrics=False)\n\u001b[0m\u001b[1;32m    221\u001b[0m \u001b[0;34m\u001b[0m\u001b[0m\n\u001b[1;32m    222\u001b[0m                 \u001b[0mouts\u001b[0m \u001b[0;34m=\u001b[0m \u001b[0mto_list\u001b[0m\u001b[0;34m(\u001b[0m\u001b[0mouts\u001b[0m\u001b[0;34m)\u001b[0m\u001b[0;34m\u001b[0m\u001b[0;34m\u001b[0m\u001b[0m\n",
      "\u001b[0;32m~/anaconda3/envs/tensorflow2_p36/lib/python3.6/site-packages/keras/engine/training.py\u001b[0m in \u001b[0;36mtrain_on_batch\u001b[0;34m(self, x, y, sample_weight, class_weight, reset_metrics)\u001b[0m\n\u001b[1;32m   1512\u001b[0m             \u001b[0mins\u001b[0m \u001b[0;34m=\u001b[0m \u001b[0mx\u001b[0m \u001b[0;34m+\u001b[0m \u001b[0my\u001b[0m \u001b[0;34m+\u001b[0m \u001b[0msample_weights\u001b[0m\u001b[0;34m\u001b[0m\u001b[0;34m\u001b[0m\u001b[0m\n\u001b[1;32m   1513\u001b[0m         \u001b[0mself\u001b[0m\u001b[0;34m.\u001b[0m\u001b[0m_make_train_function\u001b[0m\u001b[0;34m(\u001b[0m\u001b[0;34m)\u001b[0m\u001b[0;34m\u001b[0m\u001b[0;34m\u001b[0m\u001b[0m\n\u001b[0;32m-> 1514\u001b[0;31m         \u001b[0moutputs\u001b[0m \u001b[0;34m=\u001b[0m \u001b[0mself\u001b[0m\u001b[0;34m.\u001b[0m\u001b[0mtrain_function\u001b[0m\u001b[0;34m(\u001b[0m\u001b[0mins\u001b[0m\u001b[0;34m)\u001b[0m\u001b[0;34m\u001b[0m\u001b[0;34m\u001b[0m\u001b[0m\n\u001b[0m\u001b[1;32m   1515\u001b[0m \u001b[0;34m\u001b[0m\u001b[0m\n\u001b[1;32m   1516\u001b[0m         \u001b[0;32mif\u001b[0m \u001b[0mreset_metrics\u001b[0m\u001b[0;34m:\u001b[0m\u001b[0;34m\u001b[0m\u001b[0;34m\u001b[0m\u001b[0m\n",
      "\u001b[0;32m~/anaconda3/envs/tensorflow2_p36/lib/python3.6/site-packages/tensorflow/python/keras/backend.py\u001b[0m in \u001b[0;36m__call__\u001b[0;34m(self, inputs)\u001b[0m\n\u001b[1;32m   3790\u001b[0m         \u001b[0mvalue\u001b[0m \u001b[0;34m=\u001b[0m \u001b[0mmath_ops\u001b[0m\u001b[0;34m.\u001b[0m\u001b[0mcast\u001b[0m\u001b[0;34m(\u001b[0m\u001b[0mvalue\u001b[0m\u001b[0;34m,\u001b[0m \u001b[0mtensor\u001b[0m\u001b[0;34m.\u001b[0m\u001b[0mdtype\u001b[0m\u001b[0;34m)\u001b[0m\u001b[0;34m\u001b[0m\u001b[0;34m\u001b[0m\u001b[0m\n\u001b[1;32m   3791\u001b[0m       \u001b[0mconverted_inputs\u001b[0m\u001b[0;34m.\u001b[0m\u001b[0mappend\u001b[0m\u001b[0;34m(\u001b[0m\u001b[0mvalue\u001b[0m\u001b[0;34m)\u001b[0m\u001b[0;34m\u001b[0m\u001b[0;34m\u001b[0m\u001b[0m\n\u001b[0;32m-> 3792\u001b[0;31m     \u001b[0moutputs\u001b[0m \u001b[0;34m=\u001b[0m \u001b[0mself\u001b[0m\u001b[0;34m.\u001b[0m\u001b[0m_graph_fn\u001b[0m\u001b[0;34m(\u001b[0m\u001b[0;34m*\u001b[0m\u001b[0mconverted_inputs\u001b[0m\u001b[0;34m)\u001b[0m\u001b[0;34m\u001b[0m\u001b[0;34m\u001b[0m\u001b[0m\n\u001b[0m\u001b[1;32m   3793\u001b[0m \u001b[0;34m\u001b[0m\u001b[0m\n\u001b[1;32m   3794\u001b[0m     \u001b[0;31m# EagerTensor.numpy() will often make a copy to ensure memory safety.\u001b[0m\u001b[0;34m\u001b[0m\u001b[0;34m\u001b[0m\u001b[0;34m\u001b[0m\u001b[0m\n",
      "\u001b[0;32m~/anaconda3/envs/tensorflow2_p36/lib/python3.6/site-packages/tensorflow/python/eager/function.py\u001b[0m in \u001b[0;36m__call__\u001b[0;34m(self, *args, **kwargs)\u001b[0m\n\u001b[1;32m   1603\u001b[0m       \u001b[0mTypeError\u001b[0m\u001b[0;34m:\u001b[0m \u001b[0mFor\u001b[0m \u001b[0minvalid\u001b[0m \u001b[0mpositional\u001b[0m\u001b[0;34m/\u001b[0m\u001b[0mkeyword\u001b[0m \u001b[0margument\u001b[0m \u001b[0mcombinations\u001b[0m\u001b[0;34m.\u001b[0m\u001b[0;34m\u001b[0m\u001b[0;34m\u001b[0m\u001b[0m\n\u001b[1;32m   1604\u001b[0m     \"\"\"\n\u001b[0;32m-> 1605\u001b[0;31m     \u001b[0;32mreturn\u001b[0m \u001b[0mself\u001b[0m\u001b[0;34m.\u001b[0m\u001b[0m_call_impl\u001b[0m\u001b[0;34m(\u001b[0m\u001b[0margs\u001b[0m\u001b[0;34m,\u001b[0m \u001b[0mkwargs\u001b[0m\u001b[0;34m)\u001b[0m\u001b[0;34m\u001b[0m\u001b[0;34m\u001b[0m\u001b[0m\n\u001b[0m\u001b[1;32m   1606\u001b[0m \u001b[0;34m\u001b[0m\u001b[0m\n\u001b[1;32m   1607\u001b[0m   \u001b[0;32mdef\u001b[0m \u001b[0m_call_impl\u001b[0m\u001b[0;34m(\u001b[0m\u001b[0mself\u001b[0m\u001b[0;34m,\u001b[0m \u001b[0margs\u001b[0m\u001b[0;34m,\u001b[0m \u001b[0mkwargs\u001b[0m\u001b[0;34m,\u001b[0m \u001b[0mcancellation_manager\u001b[0m\u001b[0;34m=\u001b[0m\u001b[0;32mNone\u001b[0m\u001b[0;34m)\u001b[0m\u001b[0;34m:\u001b[0m\u001b[0;34m\u001b[0m\u001b[0;34m\u001b[0m\u001b[0m\n",
      "\u001b[0;32m~/anaconda3/envs/tensorflow2_p36/lib/python3.6/site-packages/tensorflow/python/eager/function.py\u001b[0m in \u001b[0;36m_call_impl\u001b[0;34m(self, args, kwargs, cancellation_manager)\u001b[0m\n\u001b[1;32m   1643\u001b[0m       raise TypeError(\"Keyword arguments {} unknown. Expected {}.\".format(\n\u001b[1;32m   1644\u001b[0m           list(kwargs.keys()), list(self._arg_keywords)))\n\u001b[0;32m-> 1645\u001b[0;31m     \u001b[0;32mreturn\u001b[0m \u001b[0mself\u001b[0m\u001b[0;34m.\u001b[0m\u001b[0m_call_flat\u001b[0m\u001b[0;34m(\u001b[0m\u001b[0margs\u001b[0m\u001b[0;34m,\u001b[0m \u001b[0mself\u001b[0m\u001b[0;34m.\u001b[0m\u001b[0mcaptured_inputs\u001b[0m\u001b[0;34m,\u001b[0m \u001b[0mcancellation_manager\u001b[0m\u001b[0;34m)\u001b[0m\u001b[0;34m\u001b[0m\u001b[0;34m\u001b[0m\u001b[0m\n\u001b[0m\u001b[1;32m   1646\u001b[0m \u001b[0;34m\u001b[0m\u001b[0m\n\u001b[1;32m   1647\u001b[0m   \u001b[0;32mdef\u001b[0m \u001b[0m_filtered_call\u001b[0m\u001b[0;34m(\u001b[0m\u001b[0mself\u001b[0m\u001b[0;34m,\u001b[0m \u001b[0margs\u001b[0m\u001b[0;34m,\u001b[0m \u001b[0mkwargs\u001b[0m\u001b[0;34m)\u001b[0m\u001b[0;34m:\u001b[0m\u001b[0;34m\u001b[0m\u001b[0;34m\u001b[0m\u001b[0m\n",
      "\u001b[0;32m~/anaconda3/envs/tensorflow2_p36/lib/python3.6/site-packages/tensorflow/python/eager/function.py\u001b[0m in \u001b[0;36m_call_flat\u001b[0;34m(self, args, captured_inputs, cancellation_manager)\u001b[0m\n\u001b[1;32m   1744\u001b[0m       \u001b[0;31m# No tape is watching; skip to running the function.\u001b[0m\u001b[0;34m\u001b[0m\u001b[0;34m\u001b[0m\u001b[0;34m\u001b[0m\u001b[0m\n\u001b[1;32m   1745\u001b[0m       return self._build_call_outputs(self._inference_function.call(\n\u001b[0;32m-> 1746\u001b[0;31m           ctx, args, cancellation_manager=cancellation_manager))\n\u001b[0m\u001b[1;32m   1747\u001b[0m     forward_backward = self._select_forward_and_backward_functions(\n\u001b[1;32m   1748\u001b[0m         \u001b[0margs\u001b[0m\u001b[0;34m,\u001b[0m\u001b[0;34m\u001b[0m\u001b[0;34m\u001b[0m\u001b[0m\n",
      "\u001b[0;32m~/anaconda3/envs/tensorflow2_p36/lib/python3.6/site-packages/tensorflow/python/eager/function.py\u001b[0m in \u001b[0;36mcall\u001b[0;34m(self, ctx, args, cancellation_manager)\u001b[0m\n\u001b[1;32m    596\u001b[0m               \u001b[0minputs\u001b[0m\u001b[0;34m=\u001b[0m\u001b[0margs\u001b[0m\u001b[0;34m,\u001b[0m\u001b[0;34m\u001b[0m\u001b[0;34m\u001b[0m\u001b[0m\n\u001b[1;32m    597\u001b[0m               \u001b[0mattrs\u001b[0m\u001b[0;34m=\u001b[0m\u001b[0mattrs\u001b[0m\u001b[0;34m,\u001b[0m\u001b[0;34m\u001b[0m\u001b[0;34m\u001b[0m\u001b[0m\n\u001b[0;32m--> 598\u001b[0;31m               ctx=ctx)\n\u001b[0m\u001b[1;32m    599\u001b[0m         \u001b[0;32melse\u001b[0m\u001b[0;34m:\u001b[0m\u001b[0;34m\u001b[0m\u001b[0;34m\u001b[0m\u001b[0m\n\u001b[1;32m    600\u001b[0m           outputs = execute.execute_with_cancellation(\n",
      "\u001b[0;32m~/anaconda3/envs/tensorflow2_p36/lib/python3.6/site-packages/tensorflow/python/eager/execute.py\u001b[0m in \u001b[0;36mquick_execute\u001b[0;34m(op_name, num_outputs, inputs, attrs, ctx, name)\u001b[0m\n\u001b[1;32m     58\u001b[0m     \u001b[0mctx\u001b[0m\u001b[0;34m.\u001b[0m\u001b[0mensure_initialized\u001b[0m\u001b[0;34m(\u001b[0m\u001b[0;34m)\u001b[0m\u001b[0;34m\u001b[0m\u001b[0;34m\u001b[0m\u001b[0m\n\u001b[1;32m     59\u001b[0m     tensors = pywrap_tfe.TFE_Py_Execute(ctx._handle, device_name, op_name,\n\u001b[0;32m---> 60\u001b[0;31m                                         inputs, attrs, num_outputs)\n\u001b[0m\u001b[1;32m     61\u001b[0m   \u001b[0;32mexcept\u001b[0m \u001b[0mcore\u001b[0m\u001b[0;34m.\u001b[0m\u001b[0m_NotOkStatusException\u001b[0m \u001b[0;32mas\u001b[0m \u001b[0me\u001b[0m\u001b[0;34m:\u001b[0m\u001b[0;34m\u001b[0m\u001b[0;34m\u001b[0m\u001b[0m\n\u001b[1;32m     62\u001b[0m     \u001b[0;32mif\u001b[0m \u001b[0mname\u001b[0m \u001b[0;32mis\u001b[0m \u001b[0;32mnot\u001b[0m \u001b[0;32mNone\u001b[0m\u001b[0;34m:\u001b[0m\u001b[0;34m\u001b[0m\u001b[0;34m\u001b[0m\u001b[0m\n",
      "\u001b[0;31mKeyboardInterrupt\u001b[0m: "
     ]
    }
   ],
   "source": [
    "from collections import defaultdict\n",
    "\n",
    "epochs = 30\n",
    "number_pics_per_batch = 32\n",
    "train_steps = len(train_descriptions) // number_pics_per_batch\n",
    "validation_steps = len(dev_descriptions) // number_pics_per_batch\n",
    "\n",
    "\n",
    "for n, hp in enumerate([1]):\n",
    "#     model = get_model(**hp)\n",
    "    model_dir = f'final_model_2'\n",
    "    try:\n",
    "        os.mkdir(model_dir)\n",
    "        print('Created dir: ', model_dir)\n",
    "    except:\n",
    "        pass\n",
    "\n",
    "    for i in range(epochs):\n",
    "        train_generator = data_generator_2(\n",
    "            train_descriptions, \n",
    "            train_image_features, \n",
    "            tokenizer,\n",
    "            max_length, \n",
    "            vocab_size,\n",
    "            number_pics_per_batch,\n",
    "        )\n",
    "        dev_generator = data_generator_2(\n",
    "            dev_descriptions, \n",
    "            dev_image_features,\n",
    "            tokenizer,\n",
    "            max_length,\n",
    "            vocab_size,\n",
    "            number_pics_per_batch,\n",
    "        )\n",
    "        hist = model.fit(\n",
    "            train_generator, \n",
    "            validation_data=dev_generator, \n",
    "            epochs=1, \n",
    "            steps_per_epoch=train_steps,\n",
    "            validation_steps=validation_steps,\n",
    "            verbose=1,\n",
    "        )\n",
    "        history[f'model_{n}'].append({\n",
    "            'loss': hist.history['loss'], \n",
    "            'val_loss': hist.history['val_loss'],\n",
    "        })\n",
    "        model.save(f'./{model_dir}/model_' + str(i) + '.h5')"
   ]
  },
  {
   "cell_type": "code",
   "execution_count": 97,
   "metadata": {},
   "outputs": [
    {
     "name": "stdout",
     "output_type": "stream",
     "text": [
      "Model: \"model_17\"\n",
      "__________________________________________________________________________________________________\n",
      "Layer (type)                    Output Shape         Param #     Connected to                     \n",
      "==================================================================================================\n",
      "input_74 (InputLayer)           (None, 34)           0                                            \n",
      "__________________________________________________________________________________________________\n",
      "input_73 (InputLayer)           (None, 2048)         0                                            \n",
      "__________________________________________________________________________________________________\n",
      "embedding_31 (Embedding)        (None, 34, 300)      2274000     input_74[0][0]                   \n",
      "__________________________________________________________________________________________________\n",
      "dropout_36 (Dropout)            (None, 2048)         0           input_73[0][0]                   \n",
      "__________________________________________________________________________________________________\n",
      "gru_43 (GRU)                    (None, 34, 512)      1248768     embedding_31[0][0]               \n",
      "__________________________________________________________________________________________________\n",
      "dense_67 (Dense)                (None, 512)          1049088     dropout_36[0][0]                 \n",
      "__________________________________________________________________________________________________\n",
      "gru_44 (GRU)                    (None, 512)          1574400     gru_43[0][0]                     \n",
      "__________________________________________________________________________________________________\n",
      "add_30 (Add)                    (None, 512)          0           dense_67[0][0]                   \n",
      "                                                                 gru_44[0][0]                     \n",
      "__________________________________________________________________________________________________\n",
      "dense_68 (Dense)                (None, 512)          262656      add_30[0][0]                     \n",
      "__________________________________________________________________________________________________\n",
      "dense_69 (Dense)                (None, 7580)         3888540     dense_68[0][0]                   \n",
      "==================================================================================================\n",
      "Total params: 10,297,452\n",
      "Trainable params: 10,297,452\n",
      "Non-trainable params: 0\n",
      "__________________________________________________________________________________________________\n",
      "None\n"
     ]
    }
   ],
   "source": [
    "from keras.layers import LSTM, GRU, Embedding, Dense, Flatten, Dropout\n",
    "from keras.layers.merge import add\n",
    "from keras.models import Model\n",
    "from keras import Input\n",
    "\n",
    "# feature extractor model\n",
    "inputs1 = Input(shape=(2048,))\n",
    "fe1 = Dropout(0.3)(inputs1)\n",
    "fe2 = Dense(512, activation='relu')(fe1)\n",
    "\n",
    "# sequence model\n",
    "inputs2 = Input(shape=(max_length,))\n",
    "se1 = Embedding(\n",
    "    vocab_size, \n",
    "    embedding_dim, \n",
    "    mask_zero=True,\n",
    "    weights=[embedding_matrix],\n",
    ")(inputs2)\n",
    "se2 = GRU(\n",
    "    512, \n",
    "    dropout=0.3,\n",
    "    return_sequences=True,\n",
    ")(se1)\n",
    "se3 = GRU(\n",
    "    512,\n",
    "    dropout=0.3,\n",
    ")(se2)\n",
    "\n",
    "# decoder model\n",
    "decoder1 = add([fe2, se3])\n",
    "decoder2 = Dense(512, activation='relu')(decoder1)\n",
    "outputs = Dense(vocab_size, activation='softmax')(decoder2)\n",
    "\n",
    "# tie it together [image, seq] [word]\n",
    "base_model = Model(inputs=[inputs1, inputs2], outputs=outputs)\n",
    "base_model.compile(loss='categorical_crossentropy', optimizer='adam')\n",
    "\n",
    "# summarize model\n",
    "print(base_model.summary())"
   ]
  },
  {
   "cell_type": "code",
   "execution_count": 21,
   "metadata": {},
   "outputs": [
    {
     "data": {
      "text/plain": [
       "[{'loss': [4.753995238673324], 'val_loss': [4.497321128845215]},\n",
       " {'loss': [4.398151041817611], 'val_loss': [4.238163471221924]},\n",
       " {'loss': [4.151703889555644], 'val_loss': [4.070217609405518]},\n",
       " {'loss': [3.9534076998636687], 'val_loss': [3.9520370960235596]},\n",
       " {'loss': [3.794118313952315], 'val_loss': [3.9249494075775146]},\n",
       " {'loss': [3.6635931153472883], 'val_loss': [3.8187451362609863]},\n",
       " {'loss': [3.548058404354136], 'val_loss': [3.7718403339385986]},\n",
       " {'loss': [3.4530158504570383], 'val_loss': [3.724193811416626]},\n",
       " {'loss': [3.3615617634740484], 'val_loss': [3.7181642055511475]},\n",
       " {'loss': [3.2897205552800624], 'val_loss': [3.6863186359405518]},\n",
       " {'loss': [3.2187649120147133], 'val_loss': [3.8059277534484863]},\n",
       " {'loss': [3.1495213438943104], 'val_loss': [3.6793065071105957]},\n",
       " {'loss': [3.0913413975833905], 'val_loss': [3.6905269622802734]},\n",
       " {'loss': [3.034947318360126], 'val_loss': [3.804967164993286]}]"
      ]
     },
     "execution_count": 21,
     "metadata": {},
     "output_type": "execute_result"
    }
   ],
   "source": [
    "history['model_0']"
   ]
  },
  {
   "cell_type": "code",
   "execution_count": 24,
   "metadata": {},
   "outputs": [
    {
     "data": {
      "image/png": "[encoded data removed]",
      "text/plain": [
       "<Figure size 432x288 with 1 Axes>"
      ]
     },
     "metadata": {
      "needs_background": "light"
     },
     "output_type": "display_data"
    }
   ],
   "source": [
    "import matplotlib.pyplot as plt \n",
    "\n",
    "hist_df = pd.DataFrame(history['model_0'])\n",
    "plt.plot(list(hist_df['loss']), label='loss')\n",
    "plt.plot(list(hist_df['val_loss']), label='val_loss')\n",
    "plt.legend()\n",
    "plt.ylabel('loss')\n",
    "plt.xlabel('epoch')\n",
    "plt.xticks(np.arange(0, 14, 1))\n",
    "plt.grid()\n",
    "plt.show()"
   ]
  },
  {
   "cell_type": "code",
   "execution_count": 76,
   "metadata": {},
   "outputs": [],
   "source": [
    "from rouge import Rouge\n",
    "\n",
    "def run_rouge(test_descriptions, predicted_dict):\n",
    "    rouge = Rouge()\n",
    "\n",
    "    # get rouge for ref caption 1\n",
    "    rouge_greedy_1 = dict()\n",
    "    for image_fileName, reference_captions in test_descriptions.items():\n",
    "        cand=[' '.join(predicted_dict[image_fileName])]\n",
    "        ref_cap_reformat = list(list(zip(reference_captions))[0]) \n",
    "        rouge_greedy_1[image_fileName] = rouge.get_scores(cand, ref_cap_reformat, avg=True)\n",
    "\n",
    "    # get rouge for ref caption 2\n",
    "    rouge_greedy_2 = dict()\n",
    "    for image_fileName, reference_captions in test_descriptions.items():\n",
    "        cand=[' '.join(predicted_dict[image_fileName])]\n",
    "        ref_cap_reformat = list(list(zip(reference_captions))[1])\n",
    "        rouge_greedy_2[image_fileName] = rouge.get_scores(cand, ref_cap_reformat, avg=True)\n",
    "\n",
    "    # get rouge for ref caption 3\n",
    "    rouge_greedy_3 = dict()\n",
    "    for image_fileName, reference_captions in test_descriptions.items():\n",
    "        cand=[' '.join(predicted_dict[image_fileName])]\n",
    "        ref_cap_reformat = list(list(zip(reference_captions))[2])\n",
    "        rouge_greedy_3[image_fileName] = rouge.get_scores(cand, ref_cap_reformat, avg=True)\n",
    "\n",
    "    # get rouge for ref caption 4\n",
    "    rouge_greedy_4 = dict()\n",
    "    for image_fileName, reference_captions in test_descriptions.items():\n",
    "        cand=[' '.join(predicted_dict[image_fileName])]\n",
    "        ref_cap_reformat = list(list(zip(reference_captions))[3])\n",
    "        rouge_greedy_4[image_fileName] = rouge.get_scores(cand, ref_cap_reformat, avg=True)\n",
    "\n",
    "    # get rouge for ref caption 5\n",
    "    rouge_greedy_5 = dict()\n",
    "    for image_fileName, reference_captions in test_descriptions.items():\n",
    "        cand=[' '.join(predicted_dict[image_fileName])]\n",
    "        ref_cap_reformat = list(list(zip(reference_captions))[4])\n",
    "        rouge_greedy_5[image_fileName] = rouge.get_scores(cand, ref_cap_reformat, avg=True)\n",
    "\n",
    "    # repeat for all 5 captions by changing [0] to 1, 2, 3, 4 in rer_cap_format\n",
    "    def average_dicts(dicts):\n",
    "        result = {}\n",
    "        for i, d in enumerate(dicts):\n",
    "            for k, v in d.items():\n",
    "                update_dict_average(result, k, v, i)\n",
    "        return result\n",
    "\n",
    "    def update_dict_average(current, key, update, n):\n",
    "        if isinstance(update, dict):\n",
    "            subcurrent = current.setdefault(key, {})\n",
    "            for subkey, subupdate in update.items():\n",
    "                update_dict_average(subcurrent, subkey, subupdate, n)\n",
    "        else:\n",
    "            current[key] = (current.get(key, 0) * n + update) / (n + 1)\n",
    "\n",
    "    rouge_avg_1 = {'avg_cap_1': average_dicts(rouge_greedy_1.values())}\n",
    "    rouge_avg_2 = {'avg_cap_2': average_dicts(rouge_greedy_2.values())}\n",
    "    rouge_avg_3 = {'avg_cap_3': average_dicts(rouge_greedy_3.values())}\n",
    "    rouge_avg_4 = {'avg_cap_4': average_dicts(rouge_greedy_4.values())}\n",
    "    rouge_avg_5 = {'avg_cap_5': average_dicts(rouge_greedy_5.values())}\n",
    "\n",
    "    cap_1 = pd.DataFrame.from_dict({(i,j): rouge_avg_1[i][j]\n",
    "                               for i in rouge_avg_1.keys()\n",
    "                               for j in rouge_avg_1[i].keys()},\n",
    "                           orient='index')\n",
    "    cap_2 = pd.DataFrame.from_dict({(i,j): rouge_avg_2[i][j]\n",
    "                               for i in rouge_avg_2.keys()\n",
    "                               for j in rouge_avg_2[i].keys()},\n",
    "                           orient='index')\n",
    "    cap_3 = pd.DataFrame.from_dict({(i,j): rouge_avg_3[i][j]\n",
    "                               for i in rouge_avg_3.keys()\n",
    "                               for j in rouge_avg_3[i].keys()},\n",
    "                           orient='index')\n",
    "    cap_4 = pd.DataFrame.from_dict({(i,j): rouge_avg_4[i][j]\n",
    "                               for i in rouge_avg_4.keys()\n",
    "                               for j in rouge_avg_4[i].keys()},\n",
    "                           orient='index')\n",
    "    cap_5 = pd.DataFrame.from_dict({(i,j): rouge_avg_5[i][j]\n",
    "                               for i in rouge_avg_5.keys()\n",
    "                               for j in rouge_avg_5[i].keys()},\n",
    "                           orient='index')\n",
    "    frames = [cap_1,cap_2, cap_3, cap_4, cap_5]\n",
    "    rouge_greedy_all = pd.concat(frames)\n",
    "    return rouge_greedy_all['f'].groupby(level=1).mean()"
   ]
  },
  {
   "cell_type": "markdown",
   "metadata": {},
   "source": [
    "## Final model evaluation"
   ]
  },
  {
   "cell_type": "markdown",
   "metadata": {},
   "source": [
    "The BLEU scores for the final model using greedy search has improvements over the base model."
   ]
  },
  {
   "cell_type": "code",
   "execution_count": 54,
   "metadata": {},
   "outputs": [
    {
     "name": "stderr",
     "output_type": "stream",
     "text": [
      "Evaluating model with BLEU using Beam Search with 1 beam_width:   6%|▋         | 63/1000 [00:12<02:55,  5.34it/s]/home/ubuntu/anaconda3/envs/tensorflow2_p36/lib/python3.6/site-packages/ipykernel/__main__.py:25: RuntimeWarning: divide by zero encountered in log\n",
      "Evaluating model with BLEU using Beam Search with 1 beam_width: 100%|██████████| 1000/1000 [03:10<00:00,  5.26it/s]\n"
     ]
    },
    {
     "name": "stdout",
     "output_type": "stream",
     "text": [
      "BLEU-1: 0.493503\n",
      "BLEU-2: 0.292305\n",
      "BLEU-3: 0.205592\n",
      "BLEU-4: 0.103113\n"
     ]
    }
   ],
   "source": [
    "actual, predicted_greedy = bleu_evalulate(model, test_descriptions, test_image_features, beam_width=1)"
   ]
  },
  {
   "cell_type": "markdown",
   "metadata": {},
   "source": [
    "However, with beam search using 3 beam widths is slightly worse than the greedy search."
   ]
  },
  {
   "cell_type": "code",
   "execution_count": 53,
   "metadata": {},
   "outputs": [
    {
     "name": "stderr",
     "output_type": "stream",
     "text": [
      "Evaluating model with BLEU using Beam Search with 3 beam_width:   3%|▎         | 26/1000 [00:13<07:53,  2.06it/s]/home/ubuntu/anaconda3/envs/tensorflow2_p36/lib/python3.6/site-packages/ipykernel/__main__.py:25: RuntimeWarning: divide by zero encountered in log\n",
      "Evaluating model with BLEU using Beam Search with 3 beam_width: 100%|██████████| 1000/1000 [08:52<00:00,  1.88it/s]\n"
     ]
    },
    {
     "name": "stdout",
     "output_type": "stream",
     "text": [
      "BLEU-1: 0.460906\n",
      "BLEU-2: 0.280446\n",
      "BLEU-3: 0.200440\n",
      "BLEU-4: 0.102660\n"
     ]
    }
   ],
   "source": [
    "actual, predicted_beam3 = bleu_evalulate(model, test_descriptions, test_image_features, beam_width=3)"
   ]
  },
  {
   "cell_type": "code",
   "execution_count": 75,
   "metadata": {},
   "outputs": [],
   "source": [
    "# create list of keys to zip against predicted\n",
    "test_image_ids_list = []\n",
    "for keys in test_descriptions:\n",
    "    test_image_ids_list.append(keys)\n",
    "\n",
    "# zip together\n",
    "predicted_greedy_dict = dict(zip(test_image_ids_list, predicted_greedy))"
   ]
  },
  {
   "cell_type": "markdown",
   "metadata": {},
   "source": [
    "The same is also true for ROUGE scores as well. The greedy search has slighter better scores than the beam search with 3 beam widths."
   ]
  },
  {
   "cell_type": "code",
   "execution_count": 77,
   "metadata": {},
   "outputs": [
    {
     "data": {
      "text/plain": [
       "rouge-1    0.210119\n",
       "rouge-2    0.048486\n",
       "rouge-l    0.203367\n",
       "Name: f, dtype: float64"
      ]
     },
     "execution_count": 77,
     "metadata": {},
     "output_type": "execute_result"
    }
   ],
   "source": [
    "run_rouge(test_descriptions, predicted_greedy_dict)"
   ]
  },
  {
   "cell_type": "code",
   "execution_count": 78,
   "metadata": {},
   "outputs": [
    {
     "data": {
      "text/plain": [
       "rouge-1    0.195609\n",
       "rouge-2    0.046820\n",
       "rouge-l    0.191528\n",
       "Name: f, dtype: float64"
      ]
     },
     "execution_count": 78,
     "metadata": {},
     "output_type": "execute_result"
    }
   ],
   "source": [
    "predicted_bbeam_dict = dict(zip(test_image_ids_list, predicted_beam3))\n",
    "run_rouge(test_descriptions, predicted_bbeam_dict)"
   ]
  },
  {
   "cell_type": "markdown",
   "metadata": {},
   "source": [
    "Thus, we need to further evaluate with visual inspections."
   ]
  },
  {
   "cell_type": "code",
   "execution_count": 81,
   "metadata": {},
   "outputs": [
    {
     "name": "stdout",
     "output_type": "stream",
     "text": [
      "Greedy caption: man in red shirt is walking down the street\n",
      "Best beam caption: young boy wearing red shirt is walking down the street\n",
      "\n",
      "Greedy caption: boy is running through the water\n",
      "Best beam caption: boy is running through the water\n",
      "\n",
      "Greedy caption: man in red shirt is walking down the street\n",
      "Best beam caption: two men are sitting on bench\n",
      "\n",
      "Greedy caption: white and white dog is running through the grass\n",
      "Best beam caption: white and white dog is running through the grass\n",
      "\n",
      "Greedy caption: boy is standing on the edge of the water\n",
      "Best beam caption: small boy is playing in the water\n",
      "\n",
      "Greedy caption: black and white dog is running through the grass\n",
      "Best beam caption: dog is running through the grass\n",
      "\n",
      "Greedy caption: white and white dog is running through the grass\n",
      "Best beam caption: dog is running through the grass\n",
      "\n",
      "Greedy caption: boy is sitting on the bed\n",
      "Best beam caption: young boy is playing in the grass\n",
      "\n",
      "Greedy caption: dog is running through the water\n",
      "Best beam caption: white and white dog is running through the water\n",
      "\n",
      "Greedy caption: two boys are playing on bed\n",
      "Best beam caption: young boy is sitting on bed\n",
      "\n"
     ]
    }
   ],
   "source": [
    "for i in range(10):\n",
    "    print(\"Greedy caption: %s\" % ' '.join(list(predicted_greedy_dict.values())[i]))\n",
    "    print(\"Best beam caption: %s\" % ' '.join(list(predicted_bbeam_dict.values())[i]))\n",
    "    print()"
   ]
  }
 ],
 "metadata": {
  "accelerator": "GPU",
  "colab": {
   "collapsed_sections": [
    "ZZJ8cwcxq5aT",
    "w8i4vUD5Ixwj",
    "kWiGPcop9wUB"
   ],
   "name": "image_captioning_baseline.ipynb",
   "provenance": [],
   "toc_visible": true
  },
  "environment": {
   "name": "tf2-gpu.2-1.m46",
   "type": "gcloud",
   "uri": "gcr.io/deeplearning-platform-release/tf2-gpu.2-1:m46"
  },
  "hide_input": false,
  "kernelspec": {
   "display_name": "Environment (conda_tensorflow2_p36)",
   "language": "python",
   "name": "conda_tensorflow2_p36"
  },
  "language_info": {
   "codemirror_mode": {
    "name": "ipython",
    "version": 3
   },
   "file_extension": ".py",
   "mimetype": "text/x-python",
   "name": "python",
   "nbconvert_exporter": "python",
   "pygments_lexer": "ipython3",
   "version": "3.6.10"
  },
  "toc": {
   "base_numbering": 1,
   "nav_menu": {},
   "number_sections": true,
   "sideBar": true,
   "skip_h1_title": false,
   "title_cell": "Table of Contents",
   "title_sidebar": "Contents",
   "toc_cell": false,
   "toc_position": {},
   "toc_section_display": true,
   "toc_window_display": true
  },
  "varInspector": {
   "cols": {
    "lenName": 16,
    "lenType": 16,
    "lenVar": 40
   },
   "kernels_config": {
    "python": {
     "delete_cmd_postfix": "",
     "delete_cmd_prefix": "del ",
     "library": "var_list.py",
     "varRefreshCmd": "print(var_dic_list())"
    },
    "r": {
     "delete_cmd_postfix": ") ",
     "delete_cmd_prefix": "rm(",
     "library": "var_list.r",
     "varRefreshCmd": "cat(var_dic_list()) "
    }
   },
   "types_to_exclude": [
    "module",
    "function",
    "builtin_function_or_method",
    "instance",
    "_Feature"
   ],
   "window_display": false
  }
 },
 "nbformat": 4,
 "nbformat_minor": 4
}
