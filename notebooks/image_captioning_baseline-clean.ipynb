{
 "cells": [
  {
   "cell_type": "markdown",
   "metadata": {
    "colab_type": "text",
    "id": "Jp88Tm1b6Lhp"
   },
   "source": [
    "# Base Model"
   ]
  },
  {
   "cell_type": "markdown",
   "metadata": {
    "colab_type": "text",
    "id": "SydynLGp6JCn"
   },
   "source": [
    "Blog: https://towardsdatascience.com/image-captioning-with-keras-teaching-computers-to-describe-pictures-c88a46a311b8\n",
    "\n",
    "Source code: https://github.com/hlamba28/Automatic-Image-Captioning"
   ]
  },
  {
   "cell_type": "code",
   "execution_count": 1,
   "metadata": {
    "ExecuteTime": {
     "end_time": "2020-06-17T08:16:58.040739Z",
     "start_time": "2020-06-17T08:16:57.976160Z"
    },
    "colab": {
     "base_uri": "https://localhost:8080/",
     "height": 34
    },
    "colab_type": "code",
    "id": "TzqqzxGEuKJz",
    "outputId": "efa596d9-4251-49fc-8d78-ff298333e560",
    "scrolled": true
   },
   "outputs": [
    {
     "name": "stderr",
     "output_type": "stream",
     "text": [
      "Using TensorFlow backend.\n"
     ]
    }
   ],
   "source": [
    "%load_ext autoreload\n",
    "%autoreload 2\n",
    "import os\n",
    "import sys\n",
    "sys.path.insert(0, os.path.abspath('../scripts'))\n",
    "\n",
    "import pickle\n",
    "from time import time\n",
    "\n",
    "import numpy as np\n",
    "import pandas as pd\n",
    "import matplotlib.pyplot as plt\n",
    "%matplotlib inline\n",
    "\n",
    "from helper import *"
   ]
  },
  {
   "cell_type": "code",
   "execution_count": 2,
   "metadata": {
    "ExecuteTime": {
     "end_time": "2020-06-18T00:38:20.521881Z",
     "start_time": "2020-06-18T00:38:20.474051Z"
    }
   },
   "outputs": [],
   "source": [
    "FLICKR8K_TEXT = '../Flickr8k_text'\n",
    "FLICKR8K_DATASET = '../Flicker8k_Dataset'"
   ]
  },
  {
   "cell_type": "markdown",
   "metadata": {
    "colab_type": "text",
    "id": "vMefnz2tlmee"
   },
   "source": [
    "## 1 - Load, clean, save captions\n"
   ]
  },
  {
   "cell_type": "code",
   "execution_count": 3,
   "metadata": {
    "ExecuteTime": {
     "end_time": "2020-06-18T00:38:51.732439Z",
     "start_time": "2020-06-18T00:38:51.662623Z"
    },
    "colab": {
     "base_uri": "https://localhost:8080/",
     "height": 85
    },
    "colab_type": "code",
    "id": "q7ZxiriU6JCs",
    "outputId": "45dbe9fa-f228-45a0-e51d-790ba516a871"
   },
   "outputs": [
    {
     "name": "stdout",
     "output_type": "stream",
     "text": [
      "1000268201_693b08cb0e.jpg#0\tA child in a pink dress is climbing up a set of stairs in an entry way .\n",
      "1000268201_693b08cb0e.jpg#1\tA girl going into a wooden building .\n",
      "1000268201_693b08cb0e.jpg#2\tA little girl climbing into a wooden playhouse .\n",
      "1000268201_693b08cb0e.jpg#3\tA little girl climbing the s\n"
     ]
    }
   ],
   "source": [
    "doc = load_doc(f'{FLICKR8K_TEXT}/Flickr8k.token.txt')\n",
    "print(doc[:300])"
   ]
  },
  {
   "cell_type": "markdown",
   "metadata": {
    "colab_type": "text",
    "id": "d6uCXvd4nLB-"
   },
   "source": [
    "As we can see from the output, we have in each line  the image id, the caption number and the caption itself.\n",
    "\n",
    "We want to spilt each line into key value pairs, with the keys being image id's and the values being a list of captions 0-4."
   ]
  },
  {
   "cell_type": "code",
   "execution_count": 4,
   "metadata": {
    "ExecuteTime": {
     "end_time": "2020-06-18T00:38:55.532907Z",
     "start_time": "2020-06-18T00:38:55.409557Z"
    },
    "colab": {
     "base_uri": "https://localhost:8080/",
     "height": 34
    },
    "colab_type": "code",
    "id": "9VR57kgR6JCu",
    "outputId": "77c7ebdb-d900-4ea0-da21-59a9595f7c8a"
   },
   "outputs": [
    {
     "name": "stdout",
     "output_type": "stream",
     "text": [
      "Loaded:  8092\n"
     ]
    }
   ],
   "source": [
    "# create a map of image ids with related descriptions\n",
    "descriptions = load_descriptions(doc)\n",
    "print('Loaded: ', len(descriptions))"
   ]
  },
  {
   "cell_type": "markdown",
   "metadata": {},
   "source": [
    "We need to remove punctuation and anything else not words, overwrite descriptions dictionary with cleaned version."
   ]
  },
  {
   "cell_type": "code",
   "execution_count": 11,
   "metadata": {},
   "outputs": [],
   "source": [
    "clean_descriptions(descriptions)\n",
    "save_descriptions(descriptions, 'descriptions.txt')"
   ]
  },
  {
   "cell_type": "markdown",
   "metadata": {
    "colab_type": "text",
    "id": "0EcM9Is8rNNc"
   },
   "source": [
    "## 2 - Extract image features\n",
    "\n",
    "The CNN prebuilt model used is InceptionV3, with imagenet weights."
   ]
  },
  {
   "cell_type": "code",
   "execution_count": 4,
   "metadata": {
    "ExecuteTime": {
     "end_time": "2020-06-18T00:50:27.504064Z",
     "start_time": "2020-06-18T00:50:26.530953Z"
    }
   },
   "outputs": [],
   "source": [
    "train_img_paths, dev_img_paths, test_img_paths = load_train_dev_test_image_paths(\n",
    "    f'{FLICKR8K_DATASET}/*.jpg', \n",
    "    FLICKR8K_TEXT,\n",
    ")"
   ]
  },
  {
   "cell_type": "code",
   "execution_count": 5,
   "metadata": {
    "ExecuteTime": {
     "end_time": "2020-06-17T07:46:44.239934Z",
     "start_time": "2020-06-17T07:46:34.456013Z"
    },
    "colab": {
     "base_uri": "https://localhost:8080/",
     "height": 51
    },
    "colab_type": "code",
    "id": "Jmgt_Ka36JDY",
    "outputId": "7a3ed6b0-6c01-4855-d21f-79bee400b558"
   },
   "outputs": [],
   "source": [
    "from keras.applications.inception_v3 import InceptionV3\n",
    "\n",
    "# Load the inception v3 model\n",
    "inception_v3_model = InceptionV3(weights='imagenet')"
   ]
  },
  {
   "cell_type": "markdown",
   "metadata": {
    "colab_type": "text",
    "id": "129AkMLz6QHc"
   },
   "source": [
    "The last layer of InceptionV3 is a dense layer of size 2048."
   ]
  },
  {
   "cell_type": "code",
   "execution_count": 6,
   "metadata": {
    "ExecuteTime": {
     "end_time": "2020-06-18T00:39:59.357894Z",
     "start_time": "2020-06-18T00:39:59.280021Z"
    },
    "colab": {},
    "colab_type": "code",
    "id": "ukXN0xrj6JDb"
   },
   "outputs": [],
   "source": [
    "from keras.models import Model\n",
    "\n",
    "# Create a new model, by removing the last layer (output layer) from the inception v3\n",
    "image_features_extract_model = Model(inception_v3_model.input, inception_v3_model.layers[-2].output)"
   ]
  },
  {
   "cell_type": "markdown",
   "metadata": {
    "colab_type": "text",
    "id": "ws2jzuujmekQ"
   },
   "source": [
    "We need to run our training images through model_new (forward pass) to get our feature vectors \n",
    "and reshape to (2048, ) to input to the caption model."
   ]
  },
  {
   "cell_type": "markdown",
   "metadata": {
    "colab_type": "text",
    "id": "7Vkgla5Gp4eS"
   },
   "source": [
    "Encode training images - THIS TAKE A LONG TIME, RUN ON GPU if possible"
   ]
  },
  {
   "cell_type": "code",
   "execution_count": 17,
   "metadata": {
    "ExecuteTime": {
     "end_time": "2020-06-17T08:10:44.885631Z",
     "start_time": "2020-06-17T08:10:40.705860Z"
    }
   },
   "outputs": [
    {
     "name": "stderr",
     "output_type": "stream",
     "text": [
      "Extracting features from images: 100%|██████████| 6000/6000 [02:26<00:00, 41.09it/s]\n"
     ]
    },
    {
     "name": "stdout",
     "output_type": "stream",
     "text": [
      "Image encodings saved at: Pickle/encoded_train_images.pkl\n"
     ]
    }
   ],
   "source": [
    "image_encodings_train = extract_features_from_images(\n",
    "    image_path_list=train_img_paths,\n",
    "    cnn_model=image_features_extract_model,\n",
    "    target_size=(299, 299),\n",
    "    save_file_path='Pickle/encoded_train_images.pkl',\n",
    ")"
   ]
  },
  {
   "cell_type": "code",
   "execution_count": 18,
   "metadata": {
    "ExecuteTime": {
     "end_time": "2020-06-17T08:10:44.885631Z",
     "start_time": "2020-06-17T08:10:40.705860Z"
    }
   },
   "outputs": [
    {
     "name": "stderr",
     "output_type": "stream",
     "text": [
      "Extracting features from images: 100%|██████████| 1000/1000 [00:23<00:00, 42.68it/s]"
     ]
    },
    {
     "name": "stdout",
     "output_type": "stream",
     "text": [
      "Image encodings saved at: Pickle/encoded_dev_images.pkl\n"
     ]
    },
    {
     "name": "stderr",
     "output_type": "stream",
     "text": [
      "\n"
     ]
    }
   ],
   "source": [
    "image_encodings_dev = extract_features_from_images(\n",
    "    image_path_list=dev_img_paths,\n",
    "    cnn_model=image_features_extract_model,\n",
    "    target_size=(299, 299),\n",
    "    save_file_path='Pickle/encoded_dev_images.pkl',\n",
    ")"
   ]
  },
  {
   "cell_type": "code",
   "execution_count": 19,
   "metadata": {
    "ExecuteTime": {
     "end_time": "2020-06-17T08:10:44.885631Z",
     "start_time": "2020-06-17T08:10:40.705860Z"
    }
   },
   "outputs": [
    {
     "name": "stderr",
     "output_type": "stream",
     "text": [
      "Extracting features from images: 100%|██████████| 1000/1000 [00:23<00:00, 42.68it/s]"
     ]
    },
    {
     "name": "stdout",
     "output_type": "stream",
     "text": [
      "Image encodings saved at: Pickle/encoded_test_images.pkl\n"
     ]
    },
    {
     "name": "stderr",
     "output_type": "stream",
     "text": [
      "\n"
     ]
    }
   ],
   "source": [
    "image_encodings_test = extract_features_from_images(\n",
    "    image_path_list=test_img_paths,\n",
    "    cnn_model=image_features_extract_model,\n",
    "    target_size=(299, 299),\n",
    "    save_file_path='Pickle/encoded_test_images.pkl',\n",
    ")"
   ]
  },
  {
   "cell_type": "markdown",
   "metadata": {
    "colab_type": "text",
    "id": "JsWdTK41HdEG"
   },
   "source": [
    "## 4 - Load and Preprocess clean data\n"
   ]
  },
  {
   "cell_type": "markdown",
   "metadata": {},
   "source": [
    "Wrap with START and END tokens for each image caption in the train dataset"
   ]
  },
  {
   "cell_type": "code",
   "execution_count": 6,
   "metadata": {
    "ExecuteTime": {
     "end_time": "2020-06-17T08:49:05.738499Z",
     "start_time": "2020-06-17T08:49:05.566103Z"
    },
    "colab": {
     "base_uri": "https://localhost:8080/",
     "height": 34
    },
    "colab_type": "code",
    "id": "3ai5APdk6JDq",
    "outputId": "83537707-4841-4b18-e300-29332f1a788c"
   },
   "outputs": [
    {
     "name": "stdout",
     "output_type": "stream",
     "text": [
      "Photos: train=6000\n"
     ]
    }
   ],
   "source": [
    "train_image_ids = [img_path.split('/')[-1].split('.')[0] for img_path in train_img_paths]\n",
    "train_descriptions = add_start_end_token('descriptions.txt', train_image_ids)\n",
    "\n",
    "train_image_features = pickle.load(open(\"train_image_encodings.pickle\", \"rb\"))\n",
    "print('Photos: train=%d' % len(train_image_features))"
   ]
  },
  {
   "cell_type": "code",
   "execution_count": 7,
   "metadata": {},
   "outputs": [
    {
     "name": "stdout",
     "output_type": "stream",
     "text": [
      "Photos: dev=1000\n"
     ]
    }
   ],
   "source": [
    "dev_image_ids = [img_path.split('/')[-1].split('.')[0] for img_path in dev_img_paths]\n",
    "dev_descriptions = add_start_end_token('descriptions.txt', dev_image_ids)\n",
    "\n",
    "dev_image_features = pickle.load(open(\"dev_image_encodings.pickle\", \"rb\"))\n",
    "print('Photos: dev=%d' % len(dev_image_features))"
   ]
  },
  {
   "cell_type": "code",
   "execution_count": 5,
   "metadata": {},
   "outputs": [],
   "source": [
    "with open('../dev_image_encodings.pkl', 'wb') as f:\n",
    "    pickle.dump(dev_image_features, f, protocol=2)"
   ]
  },
  {
   "cell_type": "code",
   "execution_count": 8,
   "metadata": {},
   "outputs": [],
   "source": [
    "import json\n",
    "with open('../dev_descriptions.json', 'w') as f:\n",
    "    json.dump(dev_descriptions, f)"
   ]
  },
  {
   "cell_type": "markdown",
   "metadata": {
    "colab_type": "text",
    "id": "3pC8jTECCnoy"
   },
   "source": [
    "Create a vocbulary of all the unqiue words in our train captions data, print size (7578). This is a lot, and the frequency of most of these words will be low.\n",
    "\n",
    "Instead we will take the words that occur >10 times in the vocabulary, to be more robust to outliers, and to reduce memory and speed up training."
   ]
  },
  {
   "cell_type": "code",
   "execution_count": 8,
   "metadata": {
    "ExecuteTime": {
     "end_time": "2020-06-18T00:57:57.998894Z",
     "start_time": "2020-06-18T00:57:57.866834Z"
    }
   },
   "outputs": [
    {
     "name": "stdout",
     "output_type": "stream",
     "text": [
      "Reduced vocab size from 7578 -> 1651\n"
     ]
    }
   ],
   "source": [
    "from collections import Counter\n",
    "\n",
    "all_train_captions = [desc \n",
    "                      for desc_list in train_descriptions.values() \n",
    "                      for desc in desc_list]\n",
    "\n",
    "# Consider only words which occur at least 10 times in the corpus\n",
    "word_count_threshold = 10\n",
    "word_counts = Counter([word for caption in all_train_captions for word in caption.split(' ')])\n",
    "vocabs = [word for word, count in word_counts.items() if count >= word_count_threshold]\n",
    "print(f'Reduced vocab size from {len(word_counts)} -> {len(vocabs)}')"
   ]
  },
  {
   "cell_type": "markdown",
   "metadata": {
    "colab_type": "text",
    "id": "-K0uWaFJKTdX"
   },
   "source": [
    "We need to index our vocab with an integer, since our input to the model must be numeric. We can use this indexing to recall the words for model output. \n",
    "\n",
    "We must add one more item to the vocab size for our 0 padding."
   ]
  },
  {
   "cell_type": "code",
   "execution_count": 9,
   "metadata": {
    "ExecuteTime": {
     "end_time": "2020-06-18T00:35:17.654705Z",
     "start_time": "2020-06-18T00:35:17.601373Z"
    },
    "colab": {
     "base_uri": "https://localhost:8080/",
     "height": 34
    },
    "colab_type": "code",
    "id": "uTqMRUbl6JDx",
    "outputId": "434c2423-84f4-439b-98e1-3e75cafab2dc"
   },
   "outputs": [
    {
     "data": {
      "text/plain": [
       "1652"
      ]
     },
     "execution_count": 9,
     "metadata": {},
     "output_type": "execute_result"
    }
   ],
   "source": [
    "# index our vocab to assign a number to each word, important for model input.\n",
    "ixtoword = {}\n",
    "wordtoix = {}\n",
    "\n",
    "for ix, w in enumerate(vocabs):\n",
    "    wordtoix[w] = ix + 1\n",
    "    ixtoword[ix+1] = w\n",
    "\n",
    "# get vocab size to put into embedding layer in the model\n",
    "vocab_size = len(ixtoword) + 1 # one for appended 0's\n",
    "vocab_size"
   ]
  },
  {
   "cell_type": "code",
   "execution_count": 10,
   "metadata": {
    "ExecuteTime": {
     "end_time": "2020-06-18T01:01:26.810140Z",
     "start_time": "2020-06-18T01:01:26.737514Z"
    },
    "colab": {
     "base_uri": "https://localhost:8080/",
     "height": 34
    },
    "colab_type": "code",
    "id": "e9QDXTEN6JD1",
    "outputId": "4053595a-3ba9-408d-e802-12fa202d88d0"
   },
   "outputs": [
    {
     "name": "stdout",
     "output_type": "stream",
     "text": [
      "Description Length:  34\n"
     ]
    }
   ],
   "source": [
    "# determine the maximum sequence length in the training captions\n",
    "max_length = max(len(caption.split()) for caption in all_train_captions)\n",
    "print('Description Length: ', max_length)"
   ]
  },
  {
   "cell_type": "code",
   "execution_count": 25,
   "metadata": {
    "colab": {},
    "colab_type": "code",
    "id": "7zUTbTxliF1j"
   },
   "outputs": [],
   "source": [
    "# save our wordtoix dictionary as pickle to recall later for evaluation and prediction\n",
    "with open(\"Pickle/wordtoix.pkl\", \"wb\") as encoded_pickle:\n",
    "    pickle.dump(wordtoix, encoded_pickle)"
   ]
  },
  {
   "cell_type": "markdown",
   "metadata": {
    "colab_type": "text",
    "id": "c3dWS51k9OTy"
   },
   "source": [
    "## 5 - Build Base model"
   ]
  },
  {
   "cell_type": "code",
   "execution_count": 50,
   "metadata": {
    "ExecuteTime": {
     "end_time": "2020-06-17T12:51:17.834791Z",
     "start_time": "2020-06-17T12:51:17.267042Z"
    },
    "colab": {
     "base_uri": "https://localhost:8080/",
     "height": 527
    },
    "colab_type": "code",
    "id": "EWOXarkY9Ngj",
    "outputId": "f6f1a6ee-60be-49c2-e0ab-4249be280415",
    "scrolled": true
   },
   "outputs": [
    {
     "name": "stdout",
     "output_type": "stream",
     "text": [
      "Model: \"model_2\"\n",
      "__________________________________________________________________________________________________\n",
      "Layer (type)                    Output Shape         Param #     Connected to                     \n",
      "==================================================================================================\n",
      "input_3 (InputLayer)            (None, 34)           0                                            \n",
      "__________________________________________________________________________________________________\n",
      "input_2 (InputLayer)            (None, 2048)         0                                            \n",
      "__________________________________________________________________________________________________\n",
      "embedding_1 (Embedding)         (None, 34, 256)      422912      input_3[0][0]                    \n",
      "__________________________________________________________________________________________________\n",
      "dropout_1 (Dropout)             (None, 2048)         0           input_2[0][0]                    \n",
      "__________________________________________________________________________________________________\n",
      "dropout_2 (Dropout)             (None, 34, 256)      0           embedding_1[0][0]                \n",
      "__________________________________________________________________________________________________\n",
      "dense_1 (Dense)                 (None, 256)          524544      dropout_1[0][0]                  \n",
      "__________________________________________________________________________________________________\n",
      "lstm_1 (LSTM)                   (None, 256)          525312      dropout_2[0][0]                  \n",
      "__________________________________________________________________________________________________\n",
      "add_1 (Add)                     (None, 256)          0           dense_1[0][0]                    \n",
      "                                                                 lstm_1[0][0]                     \n",
      "__________________________________________________________________________________________________\n",
      "dense_2 (Dense)                 (None, 256)          65792       add_1[0][0]                      \n",
      "__________________________________________________________________________________________________\n",
      "dense_3 (Dense)                 (None, 1652)         424564      dense_2[0][0]                    \n",
      "==================================================================================================\n",
      "Total params: 1,963,124\n",
      "Trainable params: 1,963,124\n",
      "Non-trainable params: 0\n",
      "__________________________________________________________________________________________________\n",
      "None\n"
     ]
    }
   ],
   "source": [
    "from keras.layers import LSTM, Embedding, Dense, Flatten, Dropout\n",
    "from keras.layers.merge import add\n",
    "from keras.models import Model\n",
    "from keras import Input\n",
    "\n",
    "# feature extractor model\n",
    "inputs1 = Input(shape=(2048,))\n",
    "fe1 = Dropout(0.5)(inputs1)\n",
    "fe2 = Dense(256, activation='relu')(fe1)\n",
    "\n",
    "# sequence model\n",
    "inputs2 = Input(shape=(max_length,))\n",
    "se1 = Embedding(vocab_size, 256, mask_zero=True)(inputs2)\n",
    "se2 = Dropout(0.5)(se1)\n",
    "se3 = LSTM(256)(se2)\n",
    "\n",
    "# decoder model\n",
    "decoder1 = add([fe2, se3])\n",
    "decoder2 = Dense(256, activation='relu')(decoder1)\n",
    "outputs = Dense(vocab_size, activation='softmax')(decoder2)\n",
    "\n",
    "# tie it together [image, seq] [word]\n",
    "base_model = Model(inputs=[inputs1, inputs2], outputs=outputs)\n",
    "base_model.compile(loss='categorical_crossentropy', optimizer='adam')\n",
    "\n",
    "# summarize model\n",
    "print(base_model.summary())"
   ]
  },
  {
   "cell_type": "markdown",
   "metadata": {
    "colab_type": "text",
    "id": "Mhhegv-3YsnB"
   },
   "source": [
    "## 6 - Train model"
   ]
  },
  {
   "cell_type": "code",
   "execution_count": 109,
   "metadata": {
    "ExecuteTime": {
     "end_time": "2020-06-17T12:51:25.818197Z",
     "start_time": "2020-06-17T12:51:25.744478Z"
    },
    "colab": {},
    "colab_type": "code",
    "id": "H7TPd7ci6JEV"
   },
   "outputs": [],
   "source": [
    "epochs = 20\n",
    "number_pics_per_batch = 30\n",
    "train_steps = len(train_descriptions) // number_pics_per_batch\n",
    "validation_steps = len(dev_descriptions) // number_pics_per_batch"
   ]
  },
  {
   "cell_type": "code",
   "execution_count": 110,
   "metadata": {
    "ExecuteTime": {
     "end_time": "2020-06-17T12:55:33.500432Z",
     "start_time": "2020-06-17T12:51:29.485843Z"
    },
    "colab": {
     "base_uri": "https://localhost:8080/",
     "height": 357
    },
    "colab_type": "code",
    "id": "YPBneEGa6JEX",
    "outputId": "2bfa83a1-95f7-4f60-ba45-68c9f3ea62b3"
   },
   "outputs": [
    {
     "name": "stderr",
     "output_type": "stream",
     "text": [
      "/home/ubuntu/anaconda3/envs/tensorflow2_p36/lib/python3.6/site-packages/tensorflow_core/python/framework/indexed_slices.py:433: UserWarning: Converting sparse IndexedSlices to a dense Tensor of unknown shape. This may consume a large amount of memory.\n",
      "  \"Converting sparse IndexedSlices to a dense Tensor of unknown shape. \"\n"
     ]
    },
    {
     "name": "stdout",
     "output_type": "stream",
     "text": [
      "Epoch 1/1\n",
      "200/200 [==============================] - 21s 106ms/step - loss: 4.9202 - val_loss: 3.8930\n",
      "Epoch 1/1\n",
      "200/200 [==============================] - 21s 106ms/step - loss: 3.8114 - val_loss: 3.4346\n",
      "Epoch 1/1\n",
      "200/200 [==============================] - 21s 106ms/step - loss: 3.4580 - val_loss: 3.2531\n",
      "Epoch 1/1\n",
      "200/200 [==============================] - 21s 106ms/step - loss: 3.2675 - val_loss: 3.1406\n",
      "Epoch 1/1\n",
      "200/200 [==============================] - 21s 107ms/step - loss: 3.1387 - val_loss: 3.0632\n",
      "Epoch 1/1\n",
      "200/200 [==============================] - 22s 108ms/step - loss: 3.0399 - val_loss: 2.9971\n",
      "Epoch 1/1\n",
      "200/200 [==============================] - 22s 108ms/step - loss: 2.9583 - val_loss: 2.9736\n",
      "Epoch 1/1\n",
      "200/200 [==============================] - 22s 108ms/step - loss: 2.8891 - val_loss: 2.9647\n",
      "Epoch 1/1\n",
      "200/200 [==============================] - 22s 109ms/step - loss: 2.8275 - val_loss: 2.9614\n",
      "Epoch 1/1\n",
      "200/200 [==============================] - 22s 108ms/step - loss: 2.7715 - val_loss: 2.9616\n",
      "Epoch 1/1\n",
      "200/200 [==============================] - 22s 109ms/step - loss: 2.7238 - val_loss: 2.9786\n",
      "Epoch 1/1\n",
      "200/200 [==============================] - 22s 108ms/step - loss: 2.6813 - val_loss: 2.9612\n",
      "Epoch 1/1\n",
      "200/200 [==============================] - 22s 108ms/step - loss: 2.6373 - val_loss: 2.9642\n",
      "Epoch 1/1\n",
      "200/200 [==============================] - 22s 108ms/step - loss: 2.5999 - val_loss: 2.9661\n",
      "Epoch 1/1\n",
      "200/200 [==============================] - 22s 108ms/step - loss: 2.5664 - val_loss: 2.9773\n",
      "Epoch 1/1\n",
      "200/200 [==============================] - 22s 108ms/step - loss: 2.5316 - val_loss: 2.9932\n",
      "Epoch 1/1\n",
      "200/200 [==============================] - 22s 108ms/step - loss: 2.5048 - val_loss: 3.0222\n",
      "Epoch 1/1\n",
      "200/200 [==============================] - 22s 109ms/step - loss: 2.4742 - val_loss: 3.0121\n",
      "Epoch 1/1\n",
      "200/200 [==============================] - 22s 108ms/step - loss: 2.4494 - val_loss: 3.0156\n",
      "Epoch 1/1\n",
      "200/200 [==============================] - 22s 108ms/step - loss: 2.4243 - val_loss: 3.0259\n"
     ]
    }
   ],
   "source": [
    "for i in range(epochs):\n",
    "    train_generator = data_generator(\n",
    "        train_descriptions, \n",
    "        train_image_features, \n",
    "        wordtoix,\n",
    "        max_length, \n",
    "        vocab_size,\n",
    "        number_pics_per_batch,\n",
    "    )\n",
    "    dev_generator = data_generator(\n",
    "        dev_descriptions, \n",
    "        dev_image_features,\n",
    "        wordtoix,\n",
    "        max_length,\n",
    "        vocab_size,\n",
    "        number_pics_per_batch,\n",
    "    )\n",
    "    base_model.fit(train_generator, \n",
    "                   validation_data=dev_generator, \n",
    "                   epochs=1, \n",
    "                   steps_per_epoch=train_steps,\n",
    "                   validation_steps=validation_steps,\n",
    "                   verbose=1)\n",
    "    base_model.save('./model_weights_2/model_' + str(i) + '.h5')"
   ]
  },
  {
   "cell_type": "markdown",
   "metadata": {
    "colab_type": "text",
    "id": "tsSbUUTeVaY7"
   },
   "source": [
    "After 10 epochs the loss went from 3.38 to 2.52. could still be room to reduce the loss further even with this basic model. We need to check for overfitting first by evaluating."
   ]
  },
  {
   "cell_type": "markdown",
   "metadata": {
    "colab_type": "text",
    "id": "Y8JOTW1DTuTb"
   },
   "source": [
    "## 7 - Evaluate model\n",
    "\n"
   ]
  },
  {
   "cell_type": "code",
   "execution_count": 13,
   "metadata": {
    "colab": {},
    "colab_type": "code",
    "id": "hoILMtnR6JEu"
   },
   "outputs": [],
   "source": [
    "def greedySearch(image_feature, model):\n",
    "    in_text = '<start>'\n",
    "    for i in range(max_length):\n",
    "        sequence = [wordtoix[w] for w in in_text.split() if w in wordtoix]\n",
    "        sequence = pad_sequences([sequence], maxlen=max_length)\n",
    "        yhat = model.predict([image_feature, sequence], verbose=0)\n",
    "        yhat = np.argmax(yhat)\n",
    "        word = ixtoword[yhat]\n",
    "        in_text += ' ' + word\n",
    "        if word == '<end>':\n",
    "            break\n",
    "    final = in_text.split()\n",
    "#     final = final[1:-1]\n",
    "    final = ' '.join(final)\n",
    "    return final"
   ]
  },
  {
   "cell_type": "code",
   "execution_count": 93,
   "metadata": {},
   "outputs": [],
   "source": [
    "import tensorflow as tf\n",
    "from tensorflow import keras\n",
    "from tensorflow.keras.preprocessing.text import Tokenizer\n",
    "tokenizer = Tokenizer()\n",
    "tokenizer.fit_on_texts(all_train_captions)\n",
    "\n",
    "sentences = [\n",
    "             'I love my dog',\n",
    "             'I love my cat',\n",
    "             'You love my dog',\n",
    "]\n",
    "t = Tokenizer()\n",
    "t.fit_on_texts(sentences)"
   ]
  },
  {
   "cell_type": "code",
   "execution_count": 94,
   "metadata": {},
   "outputs": [],
   "source": []
  },
  {
   "cell_type": "code",
   "execution_count": 17,
   "metadata": {},
   "outputs": [],
   "source": [
    "t_seqs = tokenizer.texts_to_sequences(all_train_captions)"
   ]
  },
  {
   "cell_type": "code",
   "execution_count": 18,
   "metadata": {},
   "outputs": [
    {
     "data": {
      "text/plain": [
       "34"
      ]
     },
     "execution_count": 18,
     "metadata": {},
     "output_type": "execute_result"
    }
   ],
   "source": [
    "max(len(t) for t in t_seqs)"
   ]
  },
  {
   "cell_type": "code",
   "execution_count": 23,
   "metadata": {},
   "outputs": [],
   "source": [
    "t_vecs = pad_sequences(t_seqs, maxlen=34, padding='post')"
   ]
  },
  {
   "cell_type": "code",
   "execution_count": 26,
   "metadata": {},
   "outputs": [
    {
     "data": {
      "text/plain": [
       "[2]"
      ]
     },
     "execution_count": 26,
     "metadata": {},
     "output_type": "execute_result"
    }
   ],
   "source": [
    "tokenizer.texts_to_sequences(['<start>'])[0]"
   ]
  },
  {
   "cell_type": "code",
   "execution_count": 27,
   "metadata": {},
   "outputs": [
    {
     "data": {
      "text/plain": [
       "[1]"
      ]
     },
     "execution_count": 27,
     "metadata": {},
     "output_type": "execute_result"
    }
   ],
   "source": [
    "[wordtoix[w] for w in '<start>'.split() if w in wordtoix]"
   ]
  },
  {
   "cell_type": "code",
   "execution_count": 41,
   "metadata": {},
   "outputs": [],
   "source": [
    "seq = tokenizer.texts_to_sequences([['the', 'cat', 'is', 'running']])"
   ]
  },
  {
   "cell_type": "code",
   "execution_count": 47,
   "metadata": {},
   "outputs": [
    {
     "data": {
      "text/plain": [
       "[[4, 651, 6, 31]]"
      ]
     },
     "execution_count": 47,
     "metadata": {},
     "output_type": "execute_result"
    }
   ],
   "source": [
    "seq"
   ]
  },
  {
   "cell_type": "code",
   "execution_count": 48,
   "metadata": {},
   "outputs": [
    {
     "data": {
      "text/plain": [
       "[[21, 1297, 6, 105]]"
      ]
     },
     "execution_count": 48,
     "metadata": {},
     "output_type": "execute_result"
    }
   ],
   "source": [
    "[[wordtoix[w] for w in [['the', 'cat', 'is', 'running']][0] if w in wordtoix]]"
   ]
  },
  {
   "cell_type": "code",
   "execution_count": 79,
   "metadata": {},
   "outputs": [],
   "source": [
    "img_feature = test_image_features[img_id].reshape((1, 2048))\n",
    "sequence = [wordtoix[w] for w in '<start>'.split() if w in wordtoix]\n",
    "sequence = pad_sequences([sequence], maxlen=max_length)\n",
    "softmax_out = np.squeeze(model.predict([img_feature, sequence]))\n",
    "most_likely_seq = np.argsort(softmax_out)[-3:]\n",
    "most_likely_prob = np.log(softmax_out[most_likely_seq])"
   ]
  },
  {
   "cell_type": "code",
   "execution_count": 85,
   "metadata": {},
   "outputs": [],
   "source": [
    "most_likely_cap = list()\n",
    "for j in range(3):\n",
    "    most_likely_cap.append(list())\n",
    "    most_likely_cap[j] = [[ixtoword[most_likely_seq[j]]]]"
   ]
  },
  {
   "cell_type": "code",
   "execution_count": 91,
   "metadata": {},
   "outputs": [
    {
     "data": {
      "text/plain": [
       "['the']"
      ]
     },
     "execution_count": 91,
     "metadata": {},
     "output_type": "execute_result"
    }
   ],
   "source": [
    "most_likely_cap[0]"
   ]
  },
  {
   "cell_type": "code",
   "execution_count": 89,
   "metadata": {},
   "outputs": [
    {
     "data": {
      "text/plain": [
       "[[['the']], [['two']], [['man']]]"
      ]
     },
     "execution_count": 89,
     "metadata": {},
     "output_type": "execute_result"
    }
   ],
   "source": [
    "for i in range(max_length):\n",
    "    temp_prob = np.zeros((3, vocab_size))\n",
    "    for j in range(3):\n",
    "        if most_likely_cap[j][-1] != ['<end>']:\n",
    "            num_words = len(most_likely_cap[j])\n",
    "            sequence = [wordtoix[w] for w in most_likely_cap[j][0]]"
   ]
  },
  {
   "cell_type": "code",
   "execution_count": 124,
   "metadata": {},
   "outputs": [
    {
     "data": {
      "text/plain": [
       "[[['the']], [['two']], [['man']]]"
      ]
     },
     "execution_count": 124,
     "metadata": {},
     "output_type": "execute_result"
    }
   ],
   "source": [
    "most_likely_cap"
   ]
  },
  {
   "cell_type": "code",
   "execution_count": 105,
   "metadata": {},
   "outputs": [
    {
     "data": {
      "text/plain": [
       "[[4], [10]]"
      ]
     },
     "execution_count": 105,
     "metadata": {},
     "output_type": "execute_result"
    }
   ],
   "source": [
    "tokenizer.texts_to_sequences([['the'], ['man']])"
   ]
  },
  {
   "cell_type": "code",
   "execution_count": 110,
   "metadata": {},
   "outputs": [
    {
     "name": "stdout",
     "output_type": "stream",
     "text": [
      "21\n",
      "69\n"
     ]
    }
   ],
   "source": [
    "for w in [['the'], ['man']]:\n",
    "    print(wordtoix[w[0]])"
   ]
  },
  {
   "cell_type": "code",
   "execution_count": 113,
   "metadata": {},
   "outputs": [
    {
     "data": {
      "text/plain": [
       "[[21], [69]]"
      ]
     },
     "execution_count": 113,
     "metadata": {},
     "output_type": "execute_result"
    }
   ],
   "source": [
    "[[wordtoix[w[0]]] for w in [['the'], ['man']] if w[0] in wordtoix]"
   ]
  },
  {
   "cell_type": "code",
   "execution_count": 116,
   "metadata": {},
   "outputs": [],
   "source": [
    "def flatten(lst):\n",
    "    return sum(([x] if not isinstance(x, list) else flatten(x) for x in lst), [])\n",
    "\n",
    "def generate_caption_beam(pred_model, wordtoix, ixtoword, image_feature, max_length, vocab_size, beam_width):\n",
    "#     sequence = caption_train_tokenizer.texts_to_sequences(['<START>'])[0]\n",
    "    sequence = [wordtoix[w] for w in '<start>'.split() if w in wordtoix]\n",
    "    sequence = pad_sequences([sequence], maxlen=max_length)\n",
    "    model_softMax_output = np.squeeze(pred_model.predict([image_feature, sequence], verbose=0))\n",
    "    most_likely_seq = np.argsort(model_softMax_output)[-beam_width:]\n",
    "    most_likely_prob = np.log(model_softMax_output[most_likely_seq])\n",
    "\n",
    "    most_likely_cap = list()\n",
    "    for j in range(beam_width):\n",
    "        most_likely_cap.append(list())\n",
    "        most_likely_cap[j] =[[ixtoword[most_likely_seq[j]]]]\n",
    "\n",
    "    for i in range(max_length):    \n",
    "        temp_prob = np.zeros((beam_width, vocab_size))\n",
    "        for j in range(beam_width):\n",
    "            if most_likely_cap[j][-1] != ['<end>']: #if not terminated\n",
    "                num_words = len(most_likely_cap[j])\n",
    "#                 sequence = caption_train_tokenizer.texts_to_sequences(most_likely_cap[j])\n",
    "                sequence = [[wordtoix[w[0]]] for w in most_likely_cap[j] if w[0] in wordtoix]\n",
    "#                 sequence = [wordtoix[w] for w in most_likely_cap[j][0] if w in wordtoix]\n",
    "                sequence = pad_sequences(sequence, maxlen=max_length)\n",
    "                model_softMax_output = pred_model.predict([image_feature, sequence], verbose=0)\n",
    "                temp_prob[j,] = (1/(num_words)) * (most_likely_prob[j]*(num_words-1) + np.log(model_softMax_output)) #update most likily prob\n",
    "            else:\n",
    "#                 print(most_likely_cap[j][-1])\n",
    "                temp_prob[j,] = most_likely_prob[j] + np.zeros(vocab_size) - np.inf\n",
    "                temp_prob[j,0] = most_likely_prob[j]\n",
    "\n",
    "\n",
    "        x_idx, y_idx = np.unravel_index(temp_prob.flatten().argsort()[-beam_width:], temp_prob.shape)\n",
    "\n",
    "        most_likely_cap_temp = list()\n",
    "        for j in range(beam_width):\n",
    "            most_likely_prob[j] = temp_prob[x_idx[j],y_idx[j]]\n",
    "            most_likely_cap_temp.append(list())\n",
    "            most_likely_cap_temp[j] = most_likely_cap[x_idx[j]].copy()\n",
    "            if most_likely_cap_temp[j][-1] != ['<end>']:\n",
    "                most_likely_cap_temp[j].append([ixtoword[y_idx[j]]])\n",
    "\n",
    "        most_likely_cap = most_likely_cap_temp.copy()\n",
    "\n",
    "        finished = True\n",
    "        for j in range(beam_width):\n",
    "            if most_likely_cap_temp[j][-1] != ['<end>']:\n",
    "                finished = False\n",
    "\n",
    "        if finished == True:\n",
    "            break\n",
    "\n",
    "    final_caption = list()\n",
    "    \n",
    "    for j in range(beam_width):\n",
    "        final_caption.append(' '.join(flatten(most_likely_cap[j][0:-1])))\n",
    "\n",
    "    return final_caption, most_likely_prob"
   ]
  },
  {
   "cell_type": "code",
   "execution_count": 55,
   "metadata": {},
   "outputs": [
    {
     "data": {
      "text/plain": [
       "'child'"
      ]
     },
     "execution_count": 55,
     "metadata": {},
     "output_type": "execute_result"
    }
   ],
   "source": [
    "ixtoword[2]"
   ]
  },
  {
   "cell_type": "code",
   "execution_count": 54,
   "metadata": {},
   "outputs": [
    {
     "data": {
      "text/plain": [
       "'start'"
      ]
     },
     "execution_count": 54,
     "metadata": {},
     "output_type": "execute_result"
    }
   ],
   "source": [
    "tokenizer.index_word[2]"
   ]
  },
  {
   "cell_type": "markdown",
   "metadata": {
    "colab_type": "text",
    "id": "HSINNIqd5GJJ"
   },
   "source": [
    "### BLEU\n",
    "\n",
    "The primary programming task for a BLEU implementor is to compare n-grams of the candidate with the n-grams of the reference translation and count the number of matches. These matches are position-independent. The more the matches, the better the candidate translation is.\n",
    "\n",
    "Cumulative N-Gram Scores\n",
    "Cumulative scores refer to the calculation of individual n-gram scores at all orders from 1 to n and weighting them by calculating the weighted geometric mean.\n",
    "\n",
    "The cumulative and individual 1-gram BLEU use the same weights, e.g. (1, 0, 0, 0). The 2-gram weights assign a 50% to each of 1-gram and 2-gram and the 3-gram weights are 33% for each of the 1, 2 and 3-gram scores. The weights for the BLEU-4 are 1/4 (25%) or 0.25 for each of the 1-gram, 2-gram, 3-gram and 4-gram scores. \n",
    "\n",
    "Source - https://machinelearningmastery.com/calculate-bleu-score-for-text-python/\n",
    "\n",
    "Code for evaluation adapted from https://machinelearningmastery.com/develop-a-deep-learning-caption-generation-model-in-python/\n"
   ]
  },
  {
   "cell_type": "code",
   "execution_count": 14,
   "metadata": {
    "ExecuteTime": {
     "end_time": "2020-06-18T01:28:09.007110Z",
     "start_time": "2020-06-18T01:28:08.856618Z"
    },
    "colab": {},
    "colab_type": "code",
    "id": "L7qiwN-UwJJq"
   },
   "outputs": [],
   "source": [
    "from tqdm import tqdm\n",
    "from nltk.translate.bleu_score import corpus_bleu\n",
    "\n",
    "def bleu_evalulate(model, descriptions, image_features, beam_width=3):\n",
    "    \n",
    "    actual, predicted = list(), list()\n",
    "    # step over the whole dataset\n",
    "    for image_id, desc_list in tqdm(descriptions.items(), desc='Evaluating model with BLEU using Greedy Search'):\n",
    "#     for image_id, desc_list in descriptions.items():\n",
    "        # generate descriptions\n",
    "#         yhat = greedySearch(image_features[image_id].reshape((1, 2048)), model)\n",
    "        yhat, prob = generate_caption_beam(\n",
    "            model,\n",
    "            wordtoix,\n",
    "            ixtoword,\n",
    "            image_features[image_id].reshape((1, 2048)), \n",
    "            max_length, \n",
    "            vocab_size, \n",
    "            beam_width,\n",
    "        )\n",
    "        # store actual and predicted\n",
    "        references = [d.split() for d in desc_list]\n",
    "        actual.append(references)\n",
    "        predicted.append(yhat.split())\n",
    "                \n",
    "    # calculate BLEU scores\n",
    "    print('BLEU-1: %f' % corpus_bleu(actual, predicted, weights=(1.0, 0, 0, 0)))\n",
    "    print('BLEU-2: %f' % corpus_bleu(actual, predicted, weights=(0.5, 0.5, 0, 0)))\n",
    "    print('BLEU-3: %f' % corpus_bleu(actual, predicted, weights=(0.3, 0.3, 0.3, 0)))\n",
    "    print('BLEU-4: %f' % corpus_bleu(actual, predicted, weights=(0.25, 0.25, 0.25, 0.25)))  "
   ]
  },
  {
   "cell_type": "code",
   "execution_count": 50,
   "metadata": {},
   "outputs": [],
   "source": [
    "for image_id, desc_list in test_descriptions.items():\n",
    "    yhat = greedySearch(test_image_features[image_id].reshape((1, 2048)), model)\n",
    "    actual = [d.split() for d in desc_list]\n",
    "    predicted = yhat.split()\n",
    "    break"
   ]
  },
  {
   "cell_type": "code",
   "execution_count": 64,
   "metadata": {},
   "outputs": [
    {
     "name": "stderr",
     "output_type": "stream",
     "text": [
      "/home/ubuntu/anaconda3/envs/tensorflow2_p36/lib/python3.6/site-packages/nltk/translate/bleu_score.py:523: UserWarning: \n",
      "The hypothesis contains 0 counts of 3-gram overlaps.\n",
      "Therefore the BLEU score evaluates to 0, independently of\n",
      "how many N-gram overlaps of lower order it contains.\n",
      "Consider using lower n-gram order or use SmoothingFunction()\n",
      "  warnings.warn(_msg)\n",
      "/home/ubuntu/anaconda3/envs/tensorflow2_p36/lib/python3.6/site-packages/nltk/translate/bleu_score.py:523: UserWarning: \n",
      "The hypothesis contains 0 counts of 4-gram overlaps.\n",
      "Therefore the BLEU score evaluates to 0, independently of\n",
      "how many N-gram overlaps of lower order it contains.\n",
      "Consider using lower n-gram order or use SmoothingFunction()\n",
      "  warnings.warn(_msg)\n"
     ]
    },
    {
     "data": {
      "text/plain": [
       "0.46153846153846156"
      ]
     },
     "execution_count": 64,
     "metadata": {},
     "output_type": "execute_result"
    }
   ],
   "source": [
    "corpus_bleu([actual], [predicted], weights=(1, 0, 0, 0))"
   ]
  },
  {
   "cell_type": "code",
   "execution_count": 16,
   "metadata": {},
   "outputs": [],
   "source": [
    "test_image_ids = [img_path.split('/')[-1].split('.')[0] for img_path in test_img_paths]\n",
    "test_descriptions = add_start_end_token('descriptions.txt', test_image_ids)\n",
    "test_image_features = pickle.load(open(\"test_image_encodings.pickle\", \"rb\"))"
   ]
  },
  {
   "cell_type": "code",
   "execution_count": 26,
   "metadata": {},
   "outputs": [],
   "source": [
    "import json\n",
    "with open('../train_descriptions.json', 'w') as f:\n",
    "    json.dump(train_descriptions, f)"
   ]
  },
  {
   "cell_type": "code",
   "execution_count": 10,
   "metadata": {},
   "outputs": [],
   "source": [
    "with open('test_image_features_python_2.pickle', 'wb') as f:\n",
    "    pickle.dump(test_image_features, f, protocol=2)"
   ]
  },
  {
   "cell_type": "code",
   "execution_count": 18,
   "metadata": {},
   "outputs": [
    {
     "name": "stderr",
     "output_type": "stream",
     "text": [
      "/home/ubuntu/anaconda3/envs/tensorflow2_p36/lib/python3.6/site-packages/tensorflow/python/framework/indexed_slices.py:434: UserWarning: Converting sparse IndexedSlices to a dense Tensor of unknown shape. This may consume a large amount of memory.\n",
      "  \"Converting sparse IndexedSlices to a dense Tensor of unknown shape. \"\n"
     ]
    }
   ],
   "source": [
    "from keras.models import load_model\n",
    "model = load_model('model_weights_2/model_13.h5')"
   ]
  },
  {
   "cell_type": "code",
   "execution_count": 95,
   "metadata": {},
   "outputs": [
    {
     "name": "stderr",
     "output_type": "stream",
     "text": [
      "Evaluating model with BLEU using Greedy Search: 100%|██████████| 1000/1000 [22:44<00:00,  1.36s/it]\n"
     ]
    },
    {
     "name": "stdout",
     "output_type": "stream",
     "text": [
      "BLEU-1: 0.016676\n",
      "BLEU-2: 0.006726\n",
      "BLEU-3: 0.001573\n",
      "BLEU-4: 0.000000\n"
     ]
    }
   ],
   "source": [
    "bleu_evalulate(model, test_descriptions, test_image_features, beam_width=3)"
   ]
  },
  {
   "cell_type": "code",
   "execution_count": 14,
   "metadata": {},
   "outputs": [
    {
     "name": "stderr",
     "output_type": "stream",
     "text": [
      "Evaluating model with BLEU using Greedy Search: 100%|██████████| 1000/1000 [01:27<00:00, 11.38it/s]\n"
     ]
    },
    {
     "name": "stdout",
     "output_type": "stream",
     "text": [
      "BLEU-1: 0.443214\n",
      "BLEU-2: 0.271082\n",
      "BLEU-3: 0.192040\n",
      "BLEU-4: 0.092842\n"
     ]
    }
   ],
   "source": [
    "bleu_evalulate(model, test_descriptions, test_image_features)"
   ]
  },
  {
   "cell_type": "code",
   "execution_count": 21,
   "metadata": {
    "colab": {},
    "colab_type": "code",
    "id": "skhIS_UI6JEr",
    "outputId": "b1241bd7-c2b7-4c03-ec63-e02ea53b6fa9",
    "scrolled": true
   },
   "outputs": [
    {
     "name": "stdout",
     "output_type": "stream",
     "text": [
      "<start> man in red shirt and backpack is riding bike <end>\n"
     ]
    },
    {
     "data": {
      "image/png": "[encoded data removed]",
      "text/plain": [
       "<Figure size 432x288 with 1 Axes>"
      ]
     },
     "metadata": {
      "needs_background": "light"
     },
     "output_type": "display_data"
    }
   ],
   "source": [
    "img_id = list(test_image_features.keys())[5]\n",
    "print(greedySearch(test_image_features[img_id].reshape((1, 2048)), model))\n",
    "x = plt.imread(f'{FLICKR8K_DATASET}/{img_id}.jpg')\n",
    "plt.imshow(x)\n",
    "plt.show()"
   ]
  },
  {
   "cell_type": "code",
   "execution_count": 7,
   "metadata": {},
   "outputs": [
    {
     "data": {
      "text/plain": [
       "'150387174_24825cf871'"
      ]
     },
     "execution_count": 7,
     "metadata": {},
     "output_type": "execute_result"
    }
   ],
   "source": [
    "img_id = list(test_image_features.keys())[5]\n",
    "img_id"
   ]
  },
  {
   "cell_type": "code",
   "execution_count": 121,
   "metadata": {},
   "outputs": [],
   "source": [
    "img_id = list(test_image_features.keys())[4]\n",
    "yhat, prob = generate_caption_beam(\n",
    "    model,\n",
    "    wordtoix,\n",
    "    ixtoword,\n",
    "    test_image_features[img_id].reshape((1, 2048)), \n",
    "    max_length, \n",
    "    vocab_size, \n",
    "    10,\n",
    ")"
   ]
  },
  {
   "cell_type": "code",
   "execution_count": 122,
   "metadata": {},
   "outputs": [],
   "source": [
    "t = []\n",
    "for c, p in zip(yhat, prob):\n",
    "    t.append((c, p))"
   ]
  },
  {
   "cell_type": "code",
   "execution_count": 123,
   "metadata": {},
   "outputs": [
    {
     "data": {
      "text/plain": [
       "[('young man man man man man man man two man man man man man man man man man man man man man man man man man man man man man man man man man',\n",
       "  -1.4307814),\n",
       " ('young man man man two man man man man man man man man man man man man man man man man man man man man man man man man man man man man man',\n",
       "  -1.4307814),\n",
       " ('young man man man man man man man man man man man man man man man man man man two man man man man man man man man man man man man man man',\n",
       "  -1.4307811),\n",
       " ('young man man man man man man man man man man man man man man man man two man man man man man man man man man man man man man man man man',\n",
       "  -1.4307811),\n",
       " ('young man man man man man man man man man man man man man man man man man man man two man man man man man man man man man man man man man',\n",
       "  -1.4307811),\n",
       " ('young man man man man man man man man man man man man man man man man man man man man man two man man man man man man man man man man man',\n",
       "  -1.4307811),\n",
       " ('young man man man man man man man man man man man man man man man man man two man man man man man man man man man man man man man man man',\n",
       "  -1.4307811),\n",
       " ('young man man man man man man man man man man man man man man man man man man man man two man man man man man man man man man man man man',\n",
       "  -1.4307811),\n",
       " ('young man man man man man man man man man man man man man man man two man man man man man man man man man man man man man man man man man',\n",
       "  -1.4307811),\n",
       " ('young man man man man man man man man man man man man man man man man man man man man man man man man man man man man man man man man man',\n",
       "  -1.3817179)]"
      ]
     },
     "execution_count": 123,
     "metadata": {},
     "output_type": "execute_result"
    }
   ],
   "source": [
    "sorted(t, key=lambda x: x[1])"
   ]
  },
  {
   "cell_type": "code",
   "execution_count": null,
   "metadata": {},
   "outputs": [],
   "source": []
  }
 ],
 "metadata": {
  "accelerator": "GPU",
  "colab": {
   "collapsed_sections": [
    "ZZJ8cwcxq5aT",
    "w8i4vUD5Ixwj",
    "kWiGPcop9wUB"
   ],
   "name": "image_captioning_baseline.ipynb",
   "provenance": [],
   "toc_visible": true
  },
  "environment": {
   "name": "tf2-gpu.2-1.m46",
   "type": "gcloud",
   "uri": "gcr.io/deeplearning-platform-release/tf2-gpu.2-1:m46"
  },
  "hide_input": false,
  "kernelspec": {
   "display_name": "Environment (conda_tensorflow2_p36)",
   "language": "python",
   "name": "conda_tensorflow2_p36"
  },
  "language_info": {
   "codemirror_mode": {
    "name": "ipython",
    "version": 3
   },
   "file_extension": ".py",
   "mimetype": "text/x-python",
   "name": "python",
   "nbconvert_exporter": "python",
   "pygments_lexer": "ipython3",
   "version": "3.6.10"
  },
  "toc": {
   "base_numbering": 1,
   "nav_menu": {},
   "number_sections": true,
   "sideBar": true,
   "skip_h1_title": false,
   "title_cell": "Table of Contents",
   "title_sidebar": "Contents",
   "toc_cell": false,
   "toc_position": {},
   "toc_section_display": true,
   "toc_window_display": true
  },
  "varInspector": {
   "cols": {
    "lenName": 16,
    "lenType": 16,
    "lenVar": 40
   },
   "kernels_config": {
    "python": {
     "delete_cmd_postfix": "",
     "delete_cmd_prefix": "del ",
     "library": "var_list.py",
     "varRefreshCmd": "print(var_dic_list())"
    },
    "r": {
     "delete_cmd_postfix": ") ",
     "delete_cmd_prefix": "rm(",
     "library": "var_list.r",
     "varRefreshCmd": "cat(var_dic_list()) "
    }
   },
   "types_to_exclude": [
    "module",
    "function",
    "builtin_function_or_method",
    "instance",
    "_Feature"
   ],
   "window_display": false
  }
 },
 "nbformat": 4,
 "nbformat_minor": 4
}
